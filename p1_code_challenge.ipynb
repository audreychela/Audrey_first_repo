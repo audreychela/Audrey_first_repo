{
  "cells": [
    {
      "cell_type": "markdown",
      "metadata": {
        "id": "view-in-github",
        "colab_type": "text"
      },
      "source": [
        "<a href=\"https://colab.research.google.com/github/audreychela/Audrey_first_repo/blob/main/p1_code_challenge.ipynb\" target=\"_parent\"><img src=\"https://colab.research.google.com/assets/colab-badge.svg\" alt=\"Open In Colab\"/></a>"
      ]
    },
    {
      "cell_type": "markdown",
      "metadata": {
        "nbgrader": {
          "grade": false,
          "grade_id": "cell-1dc8c072d516f820",
          "locked": true,
          "schema_version": 3,
          "solution": false,
          "task": false
        },
        "id": "eWHEyXOT_iZ3"
      },
      "source": [
        "# Phase 1 Code Challenge\n",
        "This code challenge is designed to test your understanding of the Phase 1 material. It covers:\n",
        "\n",
        "- Pandas\n",
        "- Data Visualization\n",
        "- Exploring Statistical Data\n",
        "- Python Data Structures\n",
        "\n",
        "*Read the instructions carefully.* Your code will need to meet detailed specifications to pass automated tests.\n",
        "\n",
        "## Code Tests\n",
        "\n",
        "We have provided some code tests for you to run to check that your work meets the item specifications. Passing these tests does not necessarily mean that you have gotten the item correct - there are additional hidden tests. However, if any of the tests do not pass, this tells you that your code is incorrect and needs changes to meet the specification. To determine what the issue is, read the comments in the code test cells, the error message you receive, and the item instructions."
      ]
    },
    {
      "cell_type": "markdown",
      "metadata": {
        "nbgrader": {
          "grade": false,
          "grade_id": "cell-9cdee0770b4e45d9",
          "locked": true,
          "schema_version": 3,
          "solution": false,
          "task": false
        },
        "id": "UjW4jgPY_iZ6"
      },
      "source": [
        "---\n",
        "## Part 1: Pandas [Suggested Time: 15 minutes]\n",
        "---\n",
        "In this part, you will preprocess a dataset from the video game [FIFA19](https://www.kaggle.com/karangadiya/fifa19), which contains data from the players' real-life careers."
      ]
    },
    {
      "cell_type": "code",
      "execution_count": 4,
      "metadata": {
        "nbgrader": {
          "grade": false,
          "grade_id": "cell-6b5542e3f39ef221",
          "locked": true,
          "schema_version": 3,
          "solution": false,
          "task": false
        },
        "id": "Ax0Y6xNK_iZ7"
      },
      "outputs": [],
      "source": [
        "# Run this cell without changes\n",
        "\n",
        "import pandas as pd\n",
        "import numpy as np\n",
        "from numbers import Number\n",
        "import warnings\n",
        "warnings.filterwarnings('ignore')"
      ]
    },
    {
      "cell_type": "markdown",
      "metadata": {
        "nbgrader": {
          "grade": false,
          "grade_id": "cell-b9b25e040991b1e6",
          "locked": true,
          "schema_version": 3,
          "solution": false,
          "task": false
        },
        "id": "oj-2lZff_iZ8"
      },
      "source": [
        "### 1.1) Read `fifa.csv` into a pandas DataFrame named `df`\n",
        "\n",
        "Use pandas to create a new DataFrame, called `df`, containing the data from the dataset in the file `fifa.csv` in the folder containing this notebook.\n",
        "\n",
        "Hint: Use the string `'./fifa.csv'` as the file reference."
      ]
    },
    {
      "cell_type": "code",
      "execution_count": 5,
      "metadata": {
        "nbgrader": {
          "grade": false,
          "grade_id": "cell-18fbca9dcea2ebbd",
          "locked": true,
          "schema_version": 3,
          "solution": false,
          "task": false
        },
        "id": "_4A32U6S_iZ8"
      },
      "outputs": [],
      "source": [
        "# CodeGrade step1.1\n",
        "# Replace None with appropriate code\n",
        "\n",
        "df = pd.read_csv('fifa.csv')"
      ]
    },
    {
      "cell_type": "code",
      "execution_count": 6,
      "metadata": {
        "colab": {
          "base_uri": "https://localhost:8080/"
        },
        "id": "rSkTolnK_iZ9",
        "outputId": "296cebb9-a9e1-4542-ca7c-347644dcb9e3"
      },
      "outputs": [
        {
          "output_type": "execute_result",
          "data": {
            "text/plain": [
              "True"
            ]
          },
          "metadata": {},
          "execution_count": 6
        }
      ],
      "source": [
        "# This test confirms that you have created a DataFrame named df\n",
        "\n",
        "#assert\n",
        "type(df) == pd.DataFrame"
      ]
    },
    {
      "cell_type": "markdown",
      "metadata": {
        "nbgrader": {
          "grade": false,
          "grade_id": "cell-42ef866849a4d833",
          "locked": true,
          "schema_version": 3,
          "solution": false,
          "task": false
        },
        "id": "vOLu7EXg_iZ9"
      },
      "source": [
        "### 1.2) Convert the `'Release Clause'` values from Euros to dollars\n",
        "\n",
        "The `'Release Clause'` variable contains prices denominated in Euros. Use the exchange rate `1 Euro = 1.2 Dollars` to convert the prices to dollars."
      ]
    },
    {
      "cell_type": "code",
      "execution_count": 7,
      "metadata": {
        "colab": {
          "base_uri": "https://localhost:8080/",
          "height": 458
        },
        "id": "mtzjiVFc_iZ-",
        "outputId": "44b28649-61f7-4d03-ebe1-ef2b6d293d1f"
      },
      "outputs": [
        {
          "output_type": "execute_result",
          "data": {
            "text/plain": [
              "0        271800.0\n",
              "1        152520.0\n",
              "2        273720.0\n",
              "3        166320.0\n",
              "4        235680.0\n",
              "          ...    \n",
              "7293       1800.0\n",
              "7294    1197600.0\n",
              "7295       1560.0\n",
              "7296       1560.0\n",
              "7297          NaN\n",
              "Name: Release Clause, Length: 7298, dtype: float64"
            ],
            "text/html": [
              "<div>\n",
              "<style scoped>\n",
              "    .dataframe tbody tr th:only-of-type {\n",
              "        vertical-align: middle;\n",
              "    }\n",
              "\n",
              "    .dataframe tbody tr th {\n",
              "        vertical-align: top;\n",
              "    }\n",
              "\n",
              "    .dataframe thead th {\n",
              "        text-align: right;\n",
              "    }\n",
              "</style>\n",
              "<table border=\"1\" class=\"dataframe\">\n",
              "  <thead>\n",
              "    <tr style=\"text-align: right;\">\n",
              "      <th></th>\n",
              "      <th>Release Clause</th>\n",
              "    </tr>\n",
              "  </thead>\n",
              "  <tbody>\n",
              "    <tr>\n",
              "      <th>0</th>\n",
              "      <td>271800.0</td>\n",
              "    </tr>\n",
              "    <tr>\n",
              "      <th>1</th>\n",
              "      <td>152520.0</td>\n",
              "    </tr>\n",
              "    <tr>\n",
              "      <th>2</th>\n",
              "      <td>273720.0</td>\n",
              "    </tr>\n",
              "    <tr>\n",
              "      <th>3</th>\n",
              "      <td>166320.0</td>\n",
              "    </tr>\n",
              "    <tr>\n",
              "      <th>4</th>\n",
              "      <td>235680.0</td>\n",
              "    </tr>\n",
              "    <tr>\n",
              "      <th>...</th>\n",
              "      <td>...</td>\n",
              "    </tr>\n",
              "    <tr>\n",
              "      <th>7293</th>\n",
              "      <td>1800.0</td>\n",
              "    </tr>\n",
              "    <tr>\n",
              "      <th>7294</th>\n",
              "      <td>1197600.0</td>\n",
              "    </tr>\n",
              "    <tr>\n",
              "      <th>7295</th>\n",
              "      <td>1560.0</td>\n",
              "    </tr>\n",
              "    <tr>\n",
              "      <th>7296</th>\n",
              "      <td>1560.0</td>\n",
              "    </tr>\n",
              "    <tr>\n",
              "      <th>7297</th>\n",
              "      <td>NaN</td>\n",
              "    </tr>\n",
              "  </tbody>\n",
              "</table>\n",
              "<p>7298 rows × 1 columns</p>\n",
              "</div><br><label><b>dtype:</b> float64</label>"
            ]
          },
          "metadata": {},
          "execution_count": 7
        }
      ],
      "source": [
        "# CodeGrade step1.2\n",
        "# Replace None with appropriate code\n",
        "exchange_rate = 1.2\n",
        "df['Release Clause'] * exchange_rate"
      ]
    },
    {
      "cell_type": "markdown",
      "metadata": {
        "nbgrader": {
          "grade": false,
          "grade_id": "cell-e9a1540ffff85098",
          "locked": true,
          "schema_version": 3,
          "solution": false,
          "task": false
        },
        "id": "FeRm9YEr_iZ-"
      },
      "source": [
        "### 1.3) Drop rows from `df` with missing values for the `'Release Clause'` feature.\n",
        "    \n",
        "Make sure that `df` remains the name of the dataset with the dropped rows."
      ]
    },
    {
      "cell_type": "code",
      "execution_count": 8,
      "metadata": {
        "colab": {
          "base_uri": "https://localhost:8080/",
          "height": 617
        },
        "id": "UnXRPN4Y_iZ-",
        "outputId": "71d9a799-87ed-4bbd-f22a-5660e46be44b"
      },
      "outputs": [
        {
          "output_type": "execute_result",
          "data": {
            "text/plain": [
              "          ID               Name  Age  \\\n",
              "0     158023           L. Messi   31   \n",
              "1      20801  Cristiano Ronaldo   33   \n",
              "2     190871          Neymar Jr   26   \n",
              "3     193080             De Gea   27   \n",
              "4     192985       K. De Bruyne   27   \n",
              "...      ...                ...  ...   \n",
              "7292  209830      Q. Beunardeau   24   \n",
              "7293  219558         G. Koomson   23   \n",
              "7294  172198          J. Moulin   32   \n",
              "7295  176038          J. Akpala   31   \n",
              "7296  182694         J. Mattock   28   \n",
              "\n",
              "                                               Photo Nationality  \\\n",
              "0     https://cdn.sofifa.org/players/4/19/158023.png   Argentina   \n",
              "1      https://cdn.sofifa.org/players/4/19/20801.png    Portugal   \n",
              "2     https://cdn.sofifa.org/players/4/19/190871.png      Brazil   \n",
              "3     https://cdn.sofifa.org/players/4/19/193080.png       Spain   \n",
              "4     https://cdn.sofifa.org/players/4/19/192985.png     Belgium   \n",
              "...                                              ...         ...   \n",
              "7292  https://cdn.sofifa.org/players/4/19/209830.png      France   \n",
              "7293  https://cdn.sofifa.org/players/4/19/219558.png       Ghana   \n",
              "7294  https://cdn.sofifa.org/players/4/19/172198.png      France   \n",
              "7295  https://cdn.sofifa.org/players/4/19/176038.png     Nigeria   \n",
              "7296  https://cdn.sofifa.org/players/4/19/182694.png     England   \n",
              "\n",
              "                                      Flag  Overall  Potential  \\\n",
              "0      https://cdn.sofifa.org/flags/52.png       94         94   \n",
              "1      https://cdn.sofifa.org/flags/38.png       94         94   \n",
              "2      https://cdn.sofifa.org/flags/54.png       92         93   \n",
              "3      https://cdn.sofifa.org/flags/45.png       91         93   \n",
              "4       https://cdn.sofifa.org/flags/7.png       91         92   \n",
              "...                                    ...      ...        ...   \n",
              "7292   https://cdn.sofifa.org/flags/18.png       68         72   \n",
              "7293  https://cdn.sofifa.org/flags/117.png       68         72   \n",
              "7294   https://cdn.sofifa.org/flags/18.png       68         68   \n",
              "7295  https://cdn.sofifa.org/flags/133.png       68         68   \n",
              "7296   https://cdn.sofifa.org/flags/14.png       68         68   \n",
              "\n",
              "                     Club                                        Club Logo  \\\n",
              "0            FC Barcelona     https://cdn.sofifa.org/teams/2/light/241.png   \n",
              "1                Juventus      https://cdn.sofifa.org/teams/2/light/45.png   \n",
              "2     Paris Saint-Germain      https://cdn.sofifa.org/teams/2/light/73.png   \n",
              "3       Manchester United      https://cdn.sofifa.org/teams/2/light/11.png   \n",
              "4         Manchester City      https://cdn.sofifa.org/teams/2/light/10.png   \n",
              "...                   ...                                              ...   \n",
              "7292              CD Aves     https://cdn.sofifa.org/teams/2/light/666.png   \n",
              "7293             SK Brann     https://cdn.sofifa.org/teams/2/light/919.png   \n",
              "7294     AS Saint-Étienne    https://cdn.sofifa.org/teams/2/light/1819.png   \n",
              "7295           Al Faisaly  https://cdn.sofifa.org/teams/2/light/112389.png   \n",
              "7296     Rotherham United    https://cdn.sofifa.org/teams/2/light/1797.png   \n",
              "\n",
              "      ... Composure Marking  StandingTackle SlidingTackle  GKDiving  \\\n",
              "0     ...      96.0    33.0            28.0          26.0       6.0   \n",
              "1     ...      95.0    28.0            31.0          23.0       7.0   \n",
              "2     ...      94.0    27.0            24.0          33.0       9.0   \n",
              "3     ...      68.0    15.0            21.0          13.0      90.0   \n",
              "4     ...      88.0    68.0            58.0          51.0      15.0   \n",
              "...   ...       ...     ...             ...           ...       ...   \n",
              "7292  ...      30.0    10.0            15.0          14.0      71.0   \n",
              "7293  ...      69.0    44.0            42.0          30.0      12.0   \n",
              "7294  ...      59.0    14.0            13.0          14.0      70.0   \n",
              "7295  ...      65.0    28.0            42.0          36.0      12.0   \n",
              "7296  ...      55.0    64.0            66.0          64.0      16.0   \n",
              "\n",
              "      GKHandling  GKKicking GKPositioning GKReflexes Release Clause  \n",
              "0           11.0       15.0          14.0        8.0       226500.0  \n",
              "1           11.0       15.0          14.0       11.0       127100.0  \n",
              "2            9.0       15.0          15.0       11.0       228100.0  \n",
              "3           85.0       87.0          88.0       94.0       138600.0  \n",
              "4           13.0        5.0          10.0       13.0       196400.0  \n",
              "...          ...        ...           ...        ...            ...  \n",
              "7292        64.0       58.0          64.0       71.0         1800.0  \n",
              "7293         6.0       15.0          12.0       13.0         1500.0  \n",
              "7294        70.0       65.0          66.0       70.0       998000.0  \n",
              "7295        13.0        8.0           8.0        8.0         1300.0  \n",
              "7296        10.0        7.0          13.0       13.0         1300.0  \n",
              "\n",
              "[6598 rows x 88 columns]"
            ],
            "text/html": [
              "\n",
              "  <div id=\"df-40cb02fa-1928-48aa-b88c-2a7cdf2e1736\" class=\"colab-df-container\">\n",
              "    <div>\n",
              "<style scoped>\n",
              "    .dataframe tbody tr th:only-of-type {\n",
              "        vertical-align: middle;\n",
              "    }\n",
              "\n",
              "    .dataframe tbody tr th {\n",
              "        vertical-align: top;\n",
              "    }\n",
              "\n",
              "    .dataframe thead th {\n",
              "        text-align: right;\n",
              "    }\n",
              "</style>\n",
              "<table border=\"1\" class=\"dataframe\">\n",
              "  <thead>\n",
              "    <tr style=\"text-align: right;\">\n",
              "      <th></th>\n",
              "      <th>ID</th>\n",
              "      <th>Name</th>\n",
              "      <th>Age</th>\n",
              "      <th>Photo</th>\n",
              "      <th>Nationality</th>\n",
              "      <th>Flag</th>\n",
              "      <th>Overall</th>\n",
              "      <th>Potential</th>\n",
              "      <th>Club</th>\n",
              "      <th>Club Logo</th>\n",
              "      <th>...</th>\n",
              "      <th>Composure</th>\n",
              "      <th>Marking</th>\n",
              "      <th>StandingTackle</th>\n",
              "      <th>SlidingTackle</th>\n",
              "      <th>GKDiving</th>\n",
              "      <th>GKHandling</th>\n",
              "      <th>GKKicking</th>\n",
              "      <th>GKPositioning</th>\n",
              "      <th>GKReflexes</th>\n",
              "      <th>Release Clause</th>\n",
              "    </tr>\n",
              "  </thead>\n",
              "  <tbody>\n",
              "    <tr>\n",
              "      <th>0</th>\n",
              "      <td>158023</td>\n",
              "      <td>L. Messi</td>\n",
              "      <td>31</td>\n",
              "      <td>https://cdn.sofifa.org/players/4/19/158023.png</td>\n",
              "      <td>Argentina</td>\n",
              "      <td>https://cdn.sofifa.org/flags/52.png</td>\n",
              "      <td>94</td>\n",
              "      <td>94</td>\n",
              "      <td>FC Barcelona</td>\n",
              "      <td>https://cdn.sofifa.org/teams/2/light/241.png</td>\n",
              "      <td>...</td>\n",
              "      <td>96.0</td>\n",
              "      <td>33.0</td>\n",
              "      <td>28.0</td>\n",
              "      <td>26.0</td>\n",
              "      <td>6.0</td>\n",
              "      <td>11.0</td>\n",
              "      <td>15.0</td>\n",
              "      <td>14.0</td>\n",
              "      <td>8.0</td>\n",
              "      <td>226500.0</td>\n",
              "    </tr>\n",
              "    <tr>\n",
              "      <th>1</th>\n",
              "      <td>20801</td>\n",
              "      <td>Cristiano Ronaldo</td>\n",
              "      <td>33</td>\n",
              "      <td>https://cdn.sofifa.org/players/4/19/20801.png</td>\n",
              "      <td>Portugal</td>\n",
              "      <td>https://cdn.sofifa.org/flags/38.png</td>\n",
              "      <td>94</td>\n",
              "      <td>94</td>\n",
              "      <td>Juventus</td>\n",
              "      <td>https://cdn.sofifa.org/teams/2/light/45.png</td>\n",
              "      <td>...</td>\n",
              "      <td>95.0</td>\n",
              "      <td>28.0</td>\n",
              "      <td>31.0</td>\n",
              "      <td>23.0</td>\n",
              "      <td>7.0</td>\n",
              "      <td>11.0</td>\n",
              "      <td>15.0</td>\n",
              "      <td>14.0</td>\n",
              "      <td>11.0</td>\n",
              "      <td>127100.0</td>\n",
              "    </tr>\n",
              "    <tr>\n",
              "      <th>2</th>\n",
              "      <td>190871</td>\n",
              "      <td>Neymar Jr</td>\n",
              "      <td>26</td>\n",
              "      <td>https://cdn.sofifa.org/players/4/19/190871.png</td>\n",
              "      <td>Brazil</td>\n",
              "      <td>https://cdn.sofifa.org/flags/54.png</td>\n",
              "      <td>92</td>\n",
              "      <td>93</td>\n",
              "      <td>Paris Saint-Germain</td>\n",
              "      <td>https://cdn.sofifa.org/teams/2/light/73.png</td>\n",
              "      <td>...</td>\n",
              "      <td>94.0</td>\n",
              "      <td>27.0</td>\n",
              "      <td>24.0</td>\n",
              "      <td>33.0</td>\n",
              "      <td>9.0</td>\n",
              "      <td>9.0</td>\n",
              "      <td>15.0</td>\n",
              "      <td>15.0</td>\n",
              "      <td>11.0</td>\n",
              "      <td>228100.0</td>\n",
              "    </tr>\n",
              "    <tr>\n",
              "      <th>3</th>\n",
              "      <td>193080</td>\n",
              "      <td>De Gea</td>\n",
              "      <td>27</td>\n",
              "      <td>https://cdn.sofifa.org/players/4/19/193080.png</td>\n",
              "      <td>Spain</td>\n",
              "      <td>https://cdn.sofifa.org/flags/45.png</td>\n",
              "      <td>91</td>\n",
              "      <td>93</td>\n",
              "      <td>Manchester United</td>\n",
              "      <td>https://cdn.sofifa.org/teams/2/light/11.png</td>\n",
              "      <td>...</td>\n",
              "      <td>68.0</td>\n",
              "      <td>15.0</td>\n",
              "      <td>21.0</td>\n",
              "      <td>13.0</td>\n",
              "      <td>90.0</td>\n",
              "      <td>85.0</td>\n",
              "      <td>87.0</td>\n",
              "      <td>88.0</td>\n",
              "      <td>94.0</td>\n",
              "      <td>138600.0</td>\n",
              "    </tr>\n",
              "    <tr>\n",
              "      <th>4</th>\n",
              "      <td>192985</td>\n",
              "      <td>K. De Bruyne</td>\n",
              "      <td>27</td>\n",
              "      <td>https://cdn.sofifa.org/players/4/19/192985.png</td>\n",
              "      <td>Belgium</td>\n",
              "      <td>https://cdn.sofifa.org/flags/7.png</td>\n",
              "      <td>91</td>\n",
              "      <td>92</td>\n",
              "      <td>Manchester City</td>\n",
              "      <td>https://cdn.sofifa.org/teams/2/light/10.png</td>\n",
              "      <td>...</td>\n",
              "      <td>88.0</td>\n",
              "      <td>68.0</td>\n",
              "      <td>58.0</td>\n",
              "      <td>51.0</td>\n",
              "      <td>15.0</td>\n",
              "      <td>13.0</td>\n",
              "      <td>5.0</td>\n",
              "      <td>10.0</td>\n",
              "      <td>13.0</td>\n",
              "      <td>196400.0</td>\n",
              "    </tr>\n",
              "    <tr>\n",
              "      <th>...</th>\n",
              "      <td>...</td>\n",
              "      <td>...</td>\n",
              "      <td>...</td>\n",
              "      <td>...</td>\n",
              "      <td>...</td>\n",
              "      <td>...</td>\n",
              "      <td>...</td>\n",
              "      <td>...</td>\n",
              "      <td>...</td>\n",
              "      <td>...</td>\n",
              "      <td>...</td>\n",
              "      <td>...</td>\n",
              "      <td>...</td>\n",
              "      <td>...</td>\n",
              "      <td>...</td>\n",
              "      <td>...</td>\n",
              "      <td>...</td>\n",
              "      <td>...</td>\n",
              "      <td>...</td>\n",
              "      <td>...</td>\n",
              "      <td>...</td>\n",
              "    </tr>\n",
              "    <tr>\n",
              "      <th>7292</th>\n",
              "      <td>209830</td>\n",
              "      <td>Q. Beunardeau</td>\n",
              "      <td>24</td>\n",
              "      <td>https://cdn.sofifa.org/players/4/19/209830.png</td>\n",
              "      <td>France</td>\n",
              "      <td>https://cdn.sofifa.org/flags/18.png</td>\n",
              "      <td>68</td>\n",
              "      <td>72</td>\n",
              "      <td>CD Aves</td>\n",
              "      <td>https://cdn.sofifa.org/teams/2/light/666.png</td>\n",
              "      <td>...</td>\n",
              "      <td>30.0</td>\n",
              "      <td>10.0</td>\n",
              "      <td>15.0</td>\n",
              "      <td>14.0</td>\n",
              "      <td>71.0</td>\n",
              "      <td>64.0</td>\n",
              "      <td>58.0</td>\n",
              "      <td>64.0</td>\n",
              "      <td>71.0</td>\n",
              "      <td>1800.0</td>\n",
              "    </tr>\n",
              "    <tr>\n",
              "      <th>7293</th>\n",
              "      <td>219558</td>\n",
              "      <td>G. Koomson</td>\n",
              "      <td>23</td>\n",
              "      <td>https://cdn.sofifa.org/players/4/19/219558.png</td>\n",
              "      <td>Ghana</td>\n",
              "      <td>https://cdn.sofifa.org/flags/117.png</td>\n",
              "      <td>68</td>\n",
              "      <td>72</td>\n",
              "      <td>SK Brann</td>\n",
              "      <td>https://cdn.sofifa.org/teams/2/light/919.png</td>\n",
              "      <td>...</td>\n",
              "      <td>69.0</td>\n",
              "      <td>44.0</td>\n",
              "      <td>42.0</td>\n",
              "      <td>30.0</td>\n",
              "      <td>12.0</td>\n",
              "      <td>6.0</td>\n",
              "      <td>15.0</td>\n",
              "      <td>12.0</td>\n",
              "      <td>13.0</td>\n",
              "      <td>1500.0</td>\n",
              "    </tr>\n",
              "    <tr>\n",
              "      <th>7294</th>\n",
              "      <td>172198</td>\n",
              "      <td>J. Moulin</td>\n",
              "      <td>32</td>\n",
              "      <td>https://cdn.sofifa.org/players/4/19/172198.png</td>\n",
              "      <td>France</td>\n",
              "      <td>https://cdn.sofifa.org/flags/18.png</td>\n",
              "      <td>68</td>\n",
              "      <td>68</td>\n",
              "      <td>AS Saint-Étienne</td>\n",
              "      <td>https://cdn.sofifa.org/teams/2/light/1819.png</td>\n",
              "      <td>...</td>\n",
              "      <td>59.0</td>\n",
              "      <td>14.0</td>\n",
              "      <td>13.0</td>\n",
              "      <td>14.0</td>\n",
              "      <td>70.0</td>\n",
              "      <td>70.0</td>\n",
              "      <td>65.0</td>\n",
              "      <td>66.0</td>\n",
              "      <td>70.0</td>\n",
              "      <td>998000.0</td>\n",
              "    </tr>\n",
              "    <tr>\n",
              "      <th>7295</th>\n",
              "      <td>176038</td>\n",
              "      <td>J. Akpala</td>\n",
              "      <td>31</td>\n",
              "      <td>https://cdn.sofifa.org/players/4/19/176038.png</td>\n",
              "      <td>Nigeria</td>\n",
              "      <td>https://cdn.sofifa.org/flags/133.png</td>\n",
              "      <td>68</td>\n",
              "      <td>68</td>\n",
              "      <td>Al Faisaly</td>\n",
              "      <td>https://cdn.sofifa.org/teams/2/light/112389.png</td>\n",
              "      <td>...</td>\n",
              "      <td>65.0</td>\n",
              "      <td>28.0</td>\n",
              "      <td>42.0</td>\n",
              "      <td>36.0</td>\n",
              "      <td>12.0</td>\n",
              "      <td>13.0</td>\n",
              "      <td>8.0</td>\n",
              "      <td>8.0</td>\n",
              "      <td>8.0</td>\n",
              "      <td>1300.0</td>\n",
              "    </tr>\n",
              "    <tr>\n",
              "      <th>7296</th>\n",
              "      <td>182694</td>\n",
              "      <td>J. Mattock</td>\n",
              "      <td>28</td>\n",
              "      <td>https://cdn.sofifa.org/players/4/19/182694.png</td>\n",
              "      <td>England</td>\n",
              "      <td>https://cdn.sofifa.org/flags/14.png</td>\n",
              "      <td>68</td>\n",
              "      <td>68</td>\n",
              "      <td>Rotherham United</td>\n",
              "      <td>https://cdn.sofifa.org/teams/2/light/1797.png</td>\n",
              "      <td>...</td>\n",
              "      <td>55.0</td>\n",
              "      <td>64.0</td>\n",
              "      <td>66.0</td>\n",
              "      <td>64.0</td>\n",
              "      <td>16.0</td>\n",
              "      <td>10.0</td>\n",
              "      <td>7.0</td>\n",
              "      <td>13.0</td>\n",
              "      <td>13.0</td>\n",
              "      <td>1300.0</td>\n",
              "    </tr>\n",
              "  </tbody>\n",
              "</table>\n",
              "<p>6598 rows × 88 columns</p>\n",
              "</div>\n",
              "    <div class=\"colab-df-buttons\">\n",
              "\n",
              "  <div class=\"colab-df-container\">\n",
              "    <button class=\"colab-df-convert\" onclick=\"convertToInteractive('df-40cb02fa-1928-48aa-b88c-2a7cdf2e1736')\"\n",
              "            title=\"Convert this dataframe to an interactive table.\"\n",
              "            style=\"display:none;\">\n",
              "\n",
              "  <svg xmlns=\"http://www.w3.org/2000/svg\" height=\"24px\" viewBox=\"0 -960 960 960\">\n",
              "    <path d=\"M120-120v-720h720v720H120Zm60-500h600v-160H180v160Zm220 220h160v-160H400v160Zm0 220h160v-160H400v160ZM180-400h160v-160H180v160Zm440 0h160v-160H620v160ZM180-180h160v-160H180v160Zm440 0h160v-160H620v160Z\"/>\n",
              "  </svg>\n",
              "    </button>\n",
              "\n",
              "  <style>\n",
              "    .colab-df-container {\n",
              "      display:flex;\n",
              "      gap: 12px;\n",
              "    }\n",
              "\n",
              "    .colab-df-convert {\n",
              "      background-color: #E8F0FE;\n",
              "      border: none;\n",
              "      border-radius: 50%;\n",
              "      cursor: pointer;\n",
              "      display: none;\n",
              "      fill: #1967D2;\n",
              "      height: 32px;\n",
              "      padding: 0 0 0 0;\n",
              "      width: 32px;\n",
              "    }\n",
              "\n",
              "    .colab-df-convert:hover {\n",
              "      background-color: #E2EBFA;\n",
              "      box-shadow: 0px 1px 2px rgba(60, 64, 67, 0.3), 0px 1px 3px 1px rgba(60, 64, 67, 0.15);\n",
              "      fill: #174EA6;\n",
              "    }\n",
              "\n",
              "    .colab-df-buttons div {\n",
              "      margin-bottom: 4px;\n",
              "    }\n",
              "\n",
              "    [theme=dark] .colab-df-convert {\n",
              "      background-color: #3B4455;\n",
              "      fill: #D2E3FC;\n",
              "    }\n",
              "\n",
              "    [theme=dark] .colab-df-convert:hover {\n",
              "      background-color: #434B5C;\n",
              "      box-shadow: 0px 1px 3px 1px rgba(0, 0, 0, 0.15);\n",
              "      filter: drop-shadow(0px 1px 2px rgba(0, 0, 0, 0.3));\n",
              "      fill: #FFFFFF;\n",
              "    }\n",
              "  </style>\n",
              "\n",
              "    <script>\n",
              "      const buttonEl =\n",
              "        document.querySelector('#df-40cb02fa-1928-48aa-b88c-2a7cdf2e1736 button.colab-df-convert');\n",
              "      buttonEl.style.display =\n",
              "        google.colab.kernel.accessAllowed ? 'block' : 'none';\n",
              "\n",
              "      async function convertToInteractive(key) {\n",
              "        const element = document.querySelector('#df-40cb02fa-1928-48aa-b88c-2a7cdf2e1736');\n",
              "        const dataTable =\n",
              "          await google.colab.kernel.invokeFunction('convertToInteractive',\n",
              "                                                    [key], {});\n",
              "        if (!dataTable) return;\n",
              "\n",
              "        const docLinkHtml = 'Like what you see? Visit the ' +\n",
              "          '<a target=\"_blank\" href=https://colab.research.google.com/notebooks/data_table.ipynb>data table notebook</a>'\n",
              "          + ' to learn more about interactive tables.';\n",
              "        element.innerHTML = '';\n",
              "        dataTable['output_type'] = 'display_data';\n",
              "        await google.colab.output.renderOutput(dataTable, element);\n",
              "        const docLink = document.createElement('div');\n",
              "        docLink.innerHTML = docLinkHtml;\n",
              "        element.appendChild(docLink);\n",
              "      }\n",
              "    </script>\n",
              "  </div>\n",
              "\n",
              "\n",
              "    <div id=\"df-e217d5c8-bacc-4fd4-99dc-8f25b88e9e76\">\n",
              "      <button class=\"colab-df-quickchart\" onclick=\"quickchart('df-e217d5c8-bacc-4fd4-99dc-8f25b88e9e76')\"\n",
              "                title=\"Suggest charts\"\n",
              "                style=\"display:none;\">\n",
              "\n",
              "<svg xmlns=\"http://www.w3.org/2000/svg\" height=\"24px\"viewBox=\"0 0 24 24\"\n",
              "     width=\"24px\">\n",
              "    <g>\n",
              "        <path d=\"M19 3H5c-1.1 0-2 .9-2 2v14c0 1.1.9 2 2 2h14c1.1 0 2-.9 2-2V5c0-1.1-.9-2-2-2zM9 17H7v-7h2v7zm4 0h-2V7h2v10zm4 0h-2v-4h2v4z\"/>\n",
              "    </g>\n",
              "</svg>\n",
              "      </button>\n",
              "\n",
              "<style>\n",
              "  .colab-df-quickchart {\n",
              "      --bg-color: #E8F0FE;\n",
              "      --fill-color: #1967D2;\n",
              "      --hover-bg-color: #E2EBFA;\n",
              "      --hover-fill-color: #174EA6;\n",
              "      --disabled-fill-color: #AAA;\n",
              "      --disabled-bg-color: #DDD;\n",
              "  }\n",
              "\n",
              "  [theme=dark] .colab-df-quickchart {\n",
              "      --bg-color: #3B4455;\n",
              "      --fill-color: #D2E3FC;\n",
              "      --hover-bg-color: #434B5C;\n",
              "      --hover-fill-color: #FFFFFF;\n",
              "      --disabled-bg-color: #3B4455;\n",
              "      --disabled-fill-color: #666;\n",
              "  }\n",
              "\n",
              "  .colab-df-quickchart {\n",
              "    background-color: var(--bg-color);\n",
              "    border: none;\n",
              "    border-radius: 50%;\n",
              "    cursor: pointer;\n",
              "    display: none;\n",
              "    fill: var(--fill-color);\n",
              "    height: 32px;\n",
              "    padding: 0;\n",
              "    width: 32px;\n",
              "  }\n",
              "\n",
              "  .colab-df-quickchart:hover {\n",
              "    background-color: var(--hover-bg-color);\n",
              "    box-shadow: 0 1px 2px rgba(60, 64, 67, 0.3), 0 1px 3px 1px rgba(60, 64, 67, 0.15);\n",
              "    fill: var(--button-hover-fill-color);\n",
              "  }\n",
              "\n",
              "  .colab-df-quickchart-complete:disabled,\n",
              "  .colab-df-quickchart-complete:disabled:hover {\n",
              "    background-color: var(--disabled-bg-color);\n",
              "    fill: var(--disabled-fill-color);\n",
              "    box-shadow: none;\n",
              "  }\n",
              "\n",
              "  .colab-df-spinner {\n",
              "    border: 2px solid var(--fill-color);\n",
              "    border-color: transparent;\n",
              "    border-bottom-color: var(--fill-color);\n",
              "    animation:\n",
              "      spin 1s steps(1) infinite;\n",
              "  }\n",
              "\n",
              "  @keyframes spin {\n",
              "    0% {\n",
              "      border-color: transparent;\n",
              "      border-bottom-color: var(--fill-color);\n",
              "      border-left-color: var(--fill-color);\n",
              "    }\n",
              "    20% {\n",
              "      border-color: transparent;\n",
              "      border-left-color: var(--fill-color);\n",
              "      border-top-color: var(--fill-color);\n",
              "    }\n",
              "    30% {\n",
              "      border-color: transparent;\n",
              "      border-left-color: var(--fill-color);\n",
              "      border-top-color: var(--fill-color);\n",
              "      border-right-color: var(--fill-color);\n",
              "    }\n",
              "    40% {\n",
              "      border-color: transparent;\n",
              "      border-right-color: var(--fill-color);\n",
              "      border-top-color: var(--fill-color);\n",
              "    }\n",
              "    60% {\n",
              "      border-color: transparent;\n",
              "      border-right-color: var(--fill-color);\n",
              "    }\n",
              "    80% {\n",
              "      border-color: transparent;\n",
              "      border-right-color: var(--fill-color);\n",
              "      border-bottom-color: var(--fill-color);\n",
              "    }\n",
              "    90% {\n",
              "      border-color: transparent;\n",
              "      border-bottom-color: var(--fill-color);\n",
              "    }\n",
              "  }\n",
              "</style>\n",
              "\n",
              "      <script>\n",
              "        async function quickchart(key) {\n",
              "          const quickchartButtonEl =\n",
              "            document.querySelector('#' + key + ' button');\n",
              "          quickchartButtonEl.disabled = true;  // To prevent multiple clicks.\n",
              "          quickchartButtonEl.classList.add('colab-df-spinner');\n",
              "          try {\n",
              "            const charts = await google.colab.kernel.invokeFunction(\n",
              "                'suggestCharts', [key], {});\n",
              "          } catch (error) {\n",
              "            console.error('Error during call to suggestCharts:', error);\n",
              "          }\n",
              "          quickchartButtonEl.classList.remove('colab-df-spinner');\n",
              "          quickchartButtonEl.classList.add('colab-df-quickchart-complete');\n",
              "        }\n",
              "        (() => {\n",
              "          let quickchartButtonEl =\n",
              "            document.querySelector('#df-e217d5c8-bacc-4fd4-99dc-8f25b88e9e76 button');\n",
              "          quickchartButtonEl.style.display =\n",
              "            google.colab.kernel.accessAllowed ? 'block' : 'none';\n",
              "        })();\n",
              "      </script>\n",
              "    </div>\n",
              "\n",
              "  <div id=\"id_e511c68a-0528-432a-9ac4-c58146163ec6\">\n",
              "    <style>\n",
              "      .colab-df-generate {\n",
              "        background-color: #E8F0FE;\n",
              "        border: none;\n",
              "        border-radius: 50%;\n",
              "        cursor: pointer;\n",
              "        display: none;\n",
              "        fill: #1967D2;\n",
              "        height: 32px;\n",
              "        padding: 0 0 0 0;\n",
              "        width: 32px;\n",
              "      }\n",
              "\n",
              "      .colab-df-generate:hover {\n",
              "        background-color: #E2EBFA;\n",
              "        box-shadow: 0px 1px 2px rgba(60, 64, 67, 0.3), 0px 1px 3px 1px rgba(60, 64, 67, 0.15);\n",
              "        fill: #174EA6;\n",
              "      }\n",
              "\n",
              "      [theme=dark] .colab-df-generate {\n",
              "        background-color: #3B4455;\n",
              "        fill: #D2E3FC;\n",
              "      }\n",
              "\n",
              "      [theme=dark] .colab-df-generate:hover {\n",
              "        background-color: #434B5C;\n",
              "        box-shadow: 0px 1px 3px 1px rgba(0, 0, 0, 0.15);\n",
              "        filter: drop-shadow(0px 1px 2px rgba(0, 0, 0, 0.3));\n",
              "        fill: #FFFFFF;\n",
              "      }\n",
              "    </style>\n",
              "    <button class=\"colab-df-generate\" onclick=\"generateWithVariable('df')\"\n",
              "            title=\"Generate code using this dataframe.\"\n",
              "            style=\"display:none;\">\n",
              "\n",
              "  <svg xmlns=\"http://www.w3.org/2000/svg\" height=\"24px\"viewBox=\"0 0 24 24\"\n",
              "       width=\"24px\">\n",
              "    <path d=\"M7,19H8.4L18.45,9,17,7.55,7,17.6ZM5,21V16.75L18.45,3.32a2,2,0,0,1,2.83,0l1.4,1.43a1.91,1.91,0,0,1,.58,1.4,1.91,1.91,0,0,1-.58,1.4L9.25,21ZM18.45,9,17,7.55Zm-12,3A5.31,5.31,0,0,0,4.9,8.1,5.31,5.31,0,0,0,1,6.5,5.31,5.31,0,0,0,4.9,4.9,5.31,5.31,0,0,0,6.5,1,5.31,5.31,0,0,0,8.1,4.9,5.31,5.31,0,0,0,12,6.5,5.46,5.46,0,0,0,6.5,12Z\"/>\n",
              "  </svg>\n",
              "    </button>\n",
              "    <script>\n",
              "      (() => {\n",
              "      const buttonEl =\n",
              "        document.querySelector('#id_e511c68a-0528-432a-9ac4-c58146163ec6 button.colab-df-generate');\n",
              "      buttonEl.style.display =\n",
              "        google.colab.kernel.accessAllowed ? 'block' : 'none';\n",
              "\n",
              "      buttonEl.onclick = () => {\n",
              "        google.colab.notebook.generateWithVariable('df');\n",
              "      }\n",
              "      })();\n",
              "    </script>\n",
              "  </div>\n",
              "\n",
              "    </div>\n",
              "  </div>\n"
            ],
            "application/vnd.google.colaboratory.intrinsic+json": {
              "type": "dataframe",
              "variable_name": "df"
            }
          },
          "metadata": {},
          "execution_count": 8
        }
      ],
      "source": [
        "# CodeGrade step1.3\n",
        "# Replace None with appropriate code\n",
        "\n",
        "df = df.dropna(subset=['Release Clause'])\n",
        "df"
      ]
    },
    {
      "cell_type": "code",
      "execution_count": 9,
      "metadata": {
        "colab": {
          "base_uri": "https://localhost:8080/"
        },
        "id": "UpUM_VAY_iZ_",
        "outputId": "78c4043e-7254-4d02-ac84-15b6e9ba4ced"
      },
      "outputs": [
        {
          "output_type": "execute_result",
          "data": {
            "text/plain": [
              "False"
            ]
          },
          "metadata": {},
          "execution_count": 9
        }
      ],
      "source": [
        "# This test confirms that your dataset has the correct number of observations after dropping\n",
        "\n",
        "#assert\n",
        "df['Release Clause'].shape[0] == 16643"
      ]
    },
    {
      "cell_type": "markdown",
      "metadata": {
        "nbgrader": {
          "grade": false,
          "grade_id": "cell-be6ad3929cc953e5",
          "locked": true,
          "schema_version": 3,
          "solution": false,
          "task": false
        },
        "id": "o0fdgo3i_iZ_"
      },
      "source": [
        "### 1.4) Create a list `top_10_countries` containing the names of the 10 countries with the most players (using the `'Nationality'` column).\n",
        "\n",
        "Hint: Your answer should include England, Germany, Spain, France, and Argentina"
      ]
    },
    {
      "cell_type": "code",
      "execution_count": 10,
      "metadata": {
        "nbgrader": {
          "grade": false,
          "grade_id": "cell-a33121d22f5d8535",
          "locked": true,
          "schema_version": 3,
          "solution": false,
          "task": false
        },
        "colab": {
          "base_uri": "https://localhost:8080/"
        },
        "id": "gVKi9S6I_iZ_",
        "outputId": "87e492be-18a7-4cec-c9ce-b3e109ec8141"
      },
      "outputs": [
        {
          "output_type": "stream",
          "name": "stdout",
          "text": [
            "['Brazil', 'Spain', 'Argentina', 'Germany', 'France', 'England', 'Italy', 'Portugal', 'Colombia', 'Netherlands']\n"
          ]
        }
      ],
      "source": [
        "# CodeGrade step1.4\n",
        "# Replace None with appropriate code\n",
        "\n",
        "top_10_countries = df['Nationality'].value_counts().head(10).index.to_list()\n",
        "print(top_10_countries)"
      ]
    },
    {
      "cell_type": "code",
      "execution_count": 11,
      "metadata": {
        "colab": {
          "base_uri": "https://localhost:8080/"
        },
        "id": "u6Ny_K7R_iaA",
        "outputId": "95e7578f-d439-4508-f08d-3926b7936800"
      },
      "outputs": [
        {
          "output_type": "execute_result",
          "data": {
            "text/plain": [
              "True"
            ]
          },
          "metadata": {},
          "execution_count": 11
        }
      ],
      "source": [
        "# This test confirms that you have created a list named top_10_countries\n",
        "\n",
        "#assert\n",
        "type(top_10_countries) == list\n",
        "\n",
        "# This test confirms that top_10_countries contains England, Germany, Spain, France, and Argentina\n",
        "\n",
        "#assert\n",
        "set(['England', 'Germany', 'Spain', 'France', 'Argentina']).issubset(set(top_10_countries))"
      ]
    },
    {
      "cell_type": "code",
      "source": [
        "df['Nationality'].value_counts().head(5)"
      ],
      "metadata": {
        "colab": {
          "base_uri": "https://localhost:8080/",
          "height": 272
        },
        "id": "CWMM5DcXwDvm",
        "outputId": "f8a2e2a3-238c-4a77-cf99-04c57dda0621"
      },
      "execution_count": 30,
      "outputs": [
        {
          "output_type": "execute_result",
          "data": {
            "text/plain": [
              "Nationality\n",
              "Brazil       580\n",
              "Spain        558\n",
              "Argentina    468\n",
              "Germany      422\n",
              "France       409\n",
              "Name: count, dtype: int64"
            ],
            "text/html": [
              "<div>\n",
              "<style scoped>\n",
              "    .dataframe tbody tr th:only-of-type {\n",
              "        vertical-align: middle;\n",
              "    }\n",
              "\n",
              "    .dataframe tbody tr th {\n",
              "        vertical-align: top;\n",
              "    }\n",
              "\n",
              "    .dataframe thead th {\n",
              "        text-align: right;\n",
              "    }\n",
              "</style>\n",
              "<table border=\"1\" class=\"dataframe\">\n",
              "  <thead>\n",
              "    <tr style=\"text-align: right;\">\n",
              "      <th></th>\n",
              "      <th>count</th>\n",
              "    </tr>\n",
              "    <tr>\n",
              "      <th>Nationality</th>\n",
              "      <th></th>\n",
              "    </tr>\n",
              "  </thead>\n",
              "  <tbody>\n",
              "    <tr>\n",
              "      <th>Brazil</th>\n",
              "      <td>580</td>\n",
              "    </tr>\n",
              "    <tr>\n",
              "      <th>Spain</th>\n",
              "      <td>558</td>\n",
              "    </tr>\n",
              "    <tr>\n",
              "      <th>Argentina</th>\n",
              "      <td>468</td>\n",
              "    </tr>\n",
              "    <tr>\n",
              "      <th>Germany</th>\n",
              "      <td>422</td>\n",
              "    </tr>\n",
              "    <tr>\n",
              "      <th>France</th>\n",
              "      <td>409</td>\n",
              "    </tr>\n",
              "  </tbody>\n",
              "</table>\n",
              "</div><br><label><b>dtype:</b> int64</label>"
            ]
          },
          "metadata": {},
          "execution_count": 30
        }
      ]
    },
    {
      "cell_type": "markdown",
      "metadata": {
        "nbgrader": {
          "grade": false,
          "grade_id": "cell-f9d5841f356a5a8a",
          "locked": true,
          "schema_version": 3,
          "solution": false,
          "task": false
        },
        "id": "qMzg-sKU_iaA"
      },
      "source": [
        "## Part 2: Data Visualization [Suggested Time: 20 minutes]\n",
        "This part uses the same FIFA dataset, and asks you to plot data using `matplotlib`."
      ]
    },
    {
      "cell_type": "code",
      "execution_count": 12,
      "metadata": {
        "nbgrader": {
          "grade": false,
          "grade_id": "cell-0b27595ca9348a59",
          "locked": true,
          "schema_version": 3,
          "solution": false,
          "task": false
        },
        "id": "gCS63sHc_iaA"
      },
      "outputs": [],
      "source": [
        "# Run this cell without changes\n",
        "\n",
        "import matplotlib\n",
        "import matplotlib.pyplot as plt"
      ]
    },
    {
      "cell_type": "markdown",
      "metadata": {
        "nbgrader": {
          "grade": false,
          "grade_id": "cell-112f61d031df8fca",
          "locked": true,
          "schema_version": 3,
          "solution": false,
          "task": false
        },
        "id": "JViUddnh_iaA"
      },
      "source": [
        "### 2.1) Create a matplotlib figure `player_count_figure` containing a labeled bar chart with the number of players from England, Germany, Spain, France, and Argentina\n",
        "\n",
        "Use the strings provided below (`bar_chart_title`, `bar_chart_count_label`, and `bar_chart_series_label`) to title and label your bar chart.\n",
        "\n",
        "Hint: These are the countries with the top 5 numbers of players, so you may be able to adapt some of the code you used for question 1.4. If you were unable to complete 1.4, use the following values:\n",
        "\n",
        "```\n",
        "Country Name  | Num Players\n",
        "============  | ===========\n",
        "England       | 1000\n",
        "Germany       | 900\n",
        "Spain         | 800\n",
        "France        | 700\n",
        "Argentina     | 600\n",
        "```"
      ]
    },
    {
      "cell_type": "code",
      "source": [
        "top_5_countries = top_10_countries[:5]\n",
        "top_5_countries"
      ],
      "metadata": {
        "colab": {
          "base_uri": "https://localhost:8080/"
        },
        "id": "nyFZn6_zLOBO",
        "outputId": "0673cb5b-966c-4063-9500-6ca7a41112ee"
      },
      "execution_count": 13,
      "outputs": [
        {
          "output_type": "execute_result",
          "data": {
            "text/plain": [
              "['Brazil', 'Spain', 'Argentina', 'Germany', 'France']"
            ]
          },
          "metadata": {},
          "execution_count": 13
        }
      ]
    },
    {
      "cell_type": "code",
      "source": [
        "df['Nationality'].value_counts().head(5)"
      ],
      "metadata": {
        "colab": {
          "base_uri": "https://localhost:8080/",
          "height": 272
        },
        "id": "9DYQUkPUREmQ",
        "outputId": "a9083b34-7aa8-475d-d25a-1ebc0192ddc5"
      },
      "execution_count": 31,
      "outputs": [
        {
          "output_type": "execute_result",
          "data": {
            "text/plain": [
              "Nationality\n",
              "Brazil       580\n",
              "Spain        558\n",
              "Argentina    468\n",
              "Germany      422\n",
              "France       409\n",
              "Name: count, dtype: int64"
            ],
            "text/html": [
              "<div>\n",
              "<style scoped>\n",
              "    .dataframe tbody tr th:only-of-type {\n",
              "        vertical-align: middle;\n",
              "    }\n",
              "\n",
              "    .dataframe tbody tr th {\n",
              "        vertical-align: top;\n",
              "    }\n",
              "\n",
              "    .dataframe thead th {\n",
              "        text-align: right;\n",
              "    }\n",
              "</style>\n",
              "<table border=\"1\" class=\"dataframe\">\n",
              "  <thead>\n",
              "    <tr style=\"text-align: right;\">\n",
              "      <th></th>\n",
              "      <th>count</th>\n",
              "    </tr>\n",
              "    <tr>\n",
              "      <th>Nationality</th>\n",
              "      <th></th>\n",
              "    </tr>\n",
              "  </thead>\n",
              "  <tbody>\n",
              "    <tr>\n",
              "      <th>Brazil</th>\n",
              "      <td>580</td>\n",
              "    </tr>\n",
              "    <tr>\n",
              "      <th>Spain</th>\n",
              "      <td>558</td>\n",
              "    </tr>\n",
              "    <tr>\n",
              "      <th>Argentina</th>\n",
              "      <td>468</td>\n",
              "    </tr>\n",
              "    <tr>\n",
              "      <th>Germany</th>\n",
              "      <td>422</td>\n",
              "    </tr>\n",
              "    <tr>\n",
              "      <th>France</th>\n",
              "      <td>409</td>\n",
              "    </tr>\n",
              "  </tbody>\n",
              "</table>\n",
              "</div><br><label><b>dtype:</b> int64</label>"
            ]
          },
          "metadata": {},
          "execution_count": 31
        }
      ]
    },
    {
      "cell_type": "code",
      "execution_count": 41,
      "metadata": {
        "colab": {
          "base_uri": "https://localhost:8080/",
          "height": 812
        },
        "id": "EjrpDm39_iaA",
        "outputId": "743871fb-3827-4f9b-fcb6-54b437c02bfc"
      },
      "outputs": [
        {
          "output_type": "execute_result",
          "data": {
            "text/plain": [
              "Text(0, 0.5, 'top_5_countries_count')"
            ]
          },
          "metadata": {},
          "execution_count": 41
        },
        {
          "output_type": "display_data",
          "data": {
            "text/plain": [
              "<Figure size 900x900 with 1 Axes>"
            ],
            "image/png": "[encoded data removed]"
          },
          "metadata": {}
        }
      ],
      "source": [
        "# CodeGrade step2.1\n",
        "# Replace None with appropriate code\n",
        "\n",
        "bar_chart_countries = ['England', 'Germany', 'Spain', 'France', 'Argentina']\n",
        "\n",
        "bar_chart_title = '5 Countries with the Most Players'\n",
        "bar_chart_count_label = 'Number of Players'\n",
        "bar_chart_series_label = 'Nationality'\n",
        "\n",
        "\n",
        "top_5_countries= ['Brazil', 'Spain', 'Argentina', 'Germany', 'France']\n",
        "top_5_countries_counts= [580, 558, 468, 422,409 ]\n",
        "\n",
        "\n",
        "ax.bar(top_5_countries, top_5_countries_counts)\n",
        "player_count_figure,ax = plt.subplots(figsize=(9, 9))\n",
        "# title\n",
        "ax.set_title('5 Countries with the Most Players')\n",
        "# x-axis label\n",
        "ax.set_xlabel('top_5_countries')\n",
        "# y-axis label\n",
        "ax.set_ylabel('top_5_countries_count')\n"
      ]
    },
    {
      "cell_type": "code",
      "execution_count": 36,
      "metadata": {
        "colab": {
          "base_uri": "https://localhost:8080/"
        },
        "id": "BEv5Yzts_iaB",
        "outputId": "663d2805-6217-40fc-c1bf-190e95876e56"
      },
      "outputs": [
        {
          "output_type": "execute_result",
          "data": {
            "text/plain": [
              "True"
            ]
          },
          "metadata": {},
          "execution_count": 36
        }
      ],
      "source": [
        "# This test confirms that you have created a figure named player_count_figure\n",
        "\n",
        "#assert\n",
        "type(player_count_figure) == plt.Figure\n",
        "\n",
        "# This test confirms that the figure contains exactly one axis\n",
        "\n",
        "#assert\n",
        "len(player_count_figure.axes) == 1"
      ]
    },
    {
      "cell_type": "code",
      "execution_count": 37,
      "metadata": {
        "id": "G6HcbOWV_iaB",
        "colab": {
          "base_uri": "https://localhost:8080/"
        },
        "outputId": "254f273a-1968-417c-8c6b-0d29142350e6"
      },
      "outputs": [
        {
          "output_type": "execute_result",
          "data": {
            "text/plain": [
              "True"
            ]
          },
          "metadata": {},
          "execution_count": 37
        }
      ],
      "source": [
        "# These tests confirm that the figure has a title and axis labels\n",
        "\n",
        "#assert\n",
        "player_count_figure.axes[0].get_title() != ''\n",
        "#assert\n",
        "player_count_figure.axes[0].get_ylabel() != ''\n",
        "#assert\n",
        "player_count_figure.axes[0].get_xlabel() != ''"
      ]
    },
    {
      "cell_type": "markdown",
      "metadata": {
        "nbgrader": {
          "grade": false,
          "grade_id": "cell-70190139727d20a2",
          "locked": true,
          "schema_version": 3,
          "solution": false,
          "task": false
        },
        "id": "iZ0nXFuu_iaB"
      },
      "source": [
        "### 2.2) Create a matplotlib figure `tackle_figure` containing a labeled scatter plot visualizing the relationship between `StandingTackle` (on X axis) and `SlidingTackle` (on Y axis)\n",
        "\n",
        "Use the strings provided below (`scatter_plot_title`, `standing_tackle_label`, and `sliding_tackle_label`) to title and label your scatter plot."
      ]
    },
    {
      "cell_type": "code",
      "execution_count": 38,
      "metadata": {
        "nbgrader": {
          "grade": false,
          "grade_id": "cell-064cad4a79f53237",
          "locked": false,
          "schema_version": 3,
          "solution": true,
          "task": false
        },
        "id": "iYsuPFUJ_iaB",
        "colab": {
          "base_uri": "https://localhost:8080/",
          "height": 581
        },
        "outputId": "b2b67da2-54d4-43a8-abbe-fc038130fde4"
      },
      "outputs": [
        {
          "output_type": "execute_result",
          "data": {
            "text/plain": [
              "Text(0, 0.5, 'Standing Tackles')"
            ]
          },
          "metadata": {},
          "execution_count": 38
        },
        {
          "output_type": "display_data",
          "data": {
            "text/plain": [
              "<Figure size 1000x600 with 1 Axes>"
            ],
            "image/png": "[encoded data removed]"
          },
          "metadata": {}
        }
      ],
      "source": [
        "# CodeGrade step2.2\n",
        "\n",
        "scatter_plot_title = 'Relationship Between Standing Tackles and Sliding Tackles'\n",
        "standing_tackle_label = 'Standing Tackles'\n",
        "sliding_tackle_label = 'Sliding Tackles'\n",
        "\n",
        "tackle_figure, ax = plt.subplots(figsize=(10, 6))\n",
        "\n",
        "# Your code here\n",
        "ax.scatter('Sliding Tackles', 'Standing Tackels')\n",
        "# title\n",
        "ax.set_title('Relationship Between Standing Tackles and Sliding Tackles')\n",
        "# x-axis label\n",
        "ax.set_xlabel('Sliding Tackles')\n",
        "# y-axis label\n",
        "ax.set_ylabel('Standing Tackles')"
      ]
    },
    {
      "cell_type": "code",
      "execution_count": 42,
      "metadata": {
        "id": "h0R6zprO_iaB",
        "colab": {
          "base_uri": "https://localhost:8080/"
        },
        "outputId": "ed515891-17a0-485e-df5f-5dfc8b808830"
      },
      "outputs": [
        {
          "output_type": "execute_result",
          "data": {
            "text/plain": [
              "True"
            ]
          },
          "metadata": {},
          "execution_count": 42
        }
      ],
      "source": [
        "# This test confirms that you have created a figure named tackle_figure\n",
        "\n",
        "#assert\n",
        "type(tackle_figure) == plt.Figure\n",
        "\n",
        "# This test confirms that the figure contains exactly one axis\n",
        "\n",
        "#assert\n",
        "len(tackle_figure.axes) == 1"
      ]
    },
    {
      "cell_type": "markdown",
      "metadata": {
        "nbgrader": {
          "grade": false,
          "grade_id": "cell-d6d6af6c94216981",
          "locked": true,
          "schema_version": 3,
          "solution": false,
          "task": false
        },
        "id": "X2g1xBJP_iaC"
      },
      "source": [
        "## Part 3: Exploring Statistical Data [Suggested Time: 20 minutes]\n",
        "This part does some exploratory analysis using the same FIFA dataset."
      ]
    },
    {
      "cell_type": "markdown",
      "metadata": {
        "nbgrader": {
          "grade": false,
          "grade_id": "cell-1f6263e9b6ccbe48",
          "locked": true,
          "schema_version": 3,
          "solution": false,
          "task": false
        },
        "id": "WkUQ03eP_iaC"
      },
      "source": [
        "### 3.1) Create numeric variables `mean_age` and `median_age` containing the mean and median player ages (respectively)."
      ]
    },
    {
      "cell_type": "code",
      "source": [
        "mean_age = df.Age.mean()\n",
        "mean_age"
      ],
      "metadata": {
        "colab": {
          "base_uri": "https://localhost:8080/"
        },
        "id": "GBDEob2biiiU",
        "outputId": "a2951254-57d4-44a9-c014-c40935d268f8"
      },
      "execution_count": 43,
      "outputs": [
        {
          "output_type": "execute_result",
          "data": {
            "text/plain": [
              "np.float64(27.265535010609277)"
            ]
          },
          "metadata": {},
          "execution_count": 43
        }
      ]
    },
    {
      "cell_type": "code",
      "execution_count": 47,
      "metadata": {
        "nbgrader": {
          "grade": false,
          "grade_id": "cell-8182a47b74d8308c",
          "locked": true,
          "schema_version": 3,
          "solution": false,
          "task": false
        },
        "id": "YI4uWSwc_iaC",
        "colab": {
          "base_uri": "https://localhost:8080/"
        },
        "outputId": "43c48df9-0bad-488f-c87b-1d00062a2f73"
      },
      "outputs": [
        {
          "output_type": "execute_result",
          "data": {
            "text/plain": [
              "27.0"
            ]
          },
          "metadata": {},
          "execution_count": 47
        }
      ],
      "source": [
        "# CodeGrade step3.1\n",
        "# Replace None with appropriate code\n",
        "\n",
        "mean_age = df.Age.mean()\n",
        "mean_age\n",
        "median_age = df.Age.median()\n",
        "median_age"
      ]
    },
    {
      "cell_type": "code",
      "execution_count": 48,
      "metadata": {
        "id": "IDe3mWy5_iaD",
        "colab": {
          "base_uri": "https://localhost:8080/"
        },
        "outputId": "b3ee992b-e0c7-4b60-86d3-a01659ea8ae7"
      },
      "outputs": [
        {
          "output_type": "execute_result",
          "data": {
            "text/plain": [
              "True"
            ]
          },
          "metadata": {},
          "execution_count": 48
        }
      ],
      "source": [
        "# These tests confirm that you have created numeric variables named mean_age and median_age\n",
        "\n",
        "#assert\n",
        "isinstance(mean_age, Number)\n",
        "#assert\n",
        "isinstance(median_age, Number)"
      ]
    },
    {
      "cell_type": "markdown",
      "metadata": {
        "nbgrader": {
          "grade": false,
          "grade_id": "cell-53c00926ddd0e281",
          "locked": true,
          "schema_version": 3,
          "solution": false,
          "task": false
        },
        "id": "yibgTAvT_iaD"
      },
      "source": [
        "### 3.2) Create a string variable `oldest_argentine_name` and a numeric variable `oldest_argentine_age` containing the name and age (respectively) of the oldest player with Argentina nationality."
      ]
    },
    {
      "cell_type": "code",
      "source": [
        "df.columns"
      ],
      "metadata": {
        "colab": {
          "base_uri": "https://localhost:8080/"
        },
        "id": "FUseM6s3kKX8",
        "outputId": "4e24746e-5275-4260-c274-c6c29a5fe17d"
      },
      "execution_count": 51,
      "outputs": [
        {
          "output_type": "execute_result",
          "data": {
            "text/plain": [
              "Index(['ID', 'Name', 'Age', 'Photo', 'Nationality', 'Flag', 'Overall',\n",
              "       'Potential', 'Club', 'Club Logo', 'Value', 'Wage', 'Special',\n",
              "       'Preferred Foot', 'International Reputation', 'Weak Foot',\n",
              "       'Skill Moves', 'Work Rate', 'Body Type', 'Real Face', 'Position',\n",
              "       'Jersey Number', 'Joined', 'Loaned From', 'Contract Valid Until',\n",
              "       'Height', 'Weight', 'LS', 'ST', 'RS', 'LW', 'LF', 'CF', 'RF', 'RW',\n",
              "       'LAM', 'CAM', 'RAM', 'LM', 'LCM', 'CM', 'RCM', 'RM', 'LWB', 'LDM',\n",
              "       'CDM', 'RDM', 'RWB', 'LB', 'LCB', 'CB', 'RCB', 'RB', 'Crossing',\n",
              "       'Finishing', 'HeadingAccuracy', 'ShortPassing', 'Volleys', 'Dribbling',\n",
              "       'Curve', 'FKAccuracy', 'LongPassing', 'BallControl', 'Acceleration',\n",
              "       'SprintSpeed', 'Agility', 'Reactions', 'Balance', 'ShotPower',\n",
              "       'Jumping', 'Stamina', 'Strength', 'LongShots', 'Aggression',\n",
              "       'Interceptions', 'Positioning', 'Vision', 'Penalties', 'Composure',\n",
              "       'Marking', 'StandingTackle', 'SlidingTackle', 'GKDiving', 'GKHandling',\n",
              "       'GKKicking', 'GKPositioning', 'GKReflexes', 'Release Clause'],\n",
              "      dtype='object')"
            ]
          },
          "metadata": {},
          "execution_count": 51
        }
      ]
    },
    {
      "cell_type": "code",
      "source": [
        "df.Nationality\n"
      ],
      "metadata": {
        "colab": {
          "base_uri": "https://localhost:8080/",
          "height": 458
        },
        "id": "hQwYPLe-uasR",
        "outputId": "70380759-1e28-4e03-8a78-ea0346c68ea4"
      },
      "execution_count": 52,
      "outputs": [
        {
          "output_type": "execute_result",
          "data": {
            "text/plain": [
              "0       Argentina\n",
              "1        Portugal\n",
              "2          Brazil\n",
              "3           Spain\n",
              "4         Belgium\n",
              "          ...    \n",
              "7292       France\n",
              "7293        Ghana\n",
              "7294       France\n",
              "7295      Nigeria\n",
              "7296      England\n",
              "Name: Nationality, Length: 6598, dtype: object"
            ],
            "text/html": [
              "<div>\n",
              "<style scoped>\n",
              "    .dataframe tbody tr th:only-of-type {\n",
              "        vertical-align: middle;\n",
              "    }\n",
              "\n",
              "    .dataframe tbody tr th {\n",
              "        vertical-align: top;\n",
              "    }\n",
              "\n",
              "    .dataframe thead th {\n",
              "        text-align: right;\n",
              "    }\n",
              "</style>\n",
              "<table border=\"1\" class=\"dataframe\">\n",
              "  <thead>\n",
              "    <tr style=\"text-align: right;\">\n",
              "      <th></th>\n",
              "      <th>Nationality</th>\n",
              "    </tr>\n",
              "  </thead>\n",
              "  <tbody>\n",
              "    <tr>\n",
              "      <th>0</th>\n",
              "      <td>Argentina</td>\n",
              "    </tr>\n",
              "    <tr>\n",
              "      <th>1</th>\n",
              "      <td>Portugal</td>\n",
              "    </tr>\n",
              "    <tr>\n",
              "      <th>2</th>\n",
              "      <td>Brazil</td>\n",
              "    </tr>\n",
              "    <tr>\n",
              "      <th>3</th>\n",
              "      <td>Spain</td>\n",
              "    </tr>\n",
              "    <tr>\n",
              "      <th>4</th>\n",
              "      <td>Belgium</td>\n",
              "    </tr>\n",
              "    <tr>\n",
              "      <th>...</th>\n",
              "      <td>...</td>\n",
              "    </tr>\n",
              "    <tr>\n",
              "      <th>7292</th>\n",
              "      <td>France</td>\n",
              "    </tr>\n",
              "    <tr>\n",
              "      <th>7293</th>\n",
              "      <td>Ghana</td>\n",
              "    </tr>\n",
              "    <tr>\n",
              "      <th>7294</th>\n",
              "      <td>France</td>\n",
              "    </tr>\n",
              "    <tr>\n",
              "      <th>7295</th>\n",
              "      <td>Nigeria</td>\n",
              "    </tr>\n",
              "    <tr>\n",
              "      <th>7296</th>\n",
              "      <td>England</td>\n",
              "    </tr>\n",
              "  </tbody>\n",
              "</table>\n",
              "<p>6598 rows × 1 columns</p>\n",
              "</div><br><label><b>dtype:</b> object</label>"
            ]
          },
          "metadata": {},
          "execution_count": 52
        }
      ]
    },
    {
      "cell_type": "code",
      "source": [
        "# CodeGrade step3.2\n",
        "# Replace None with appropriate code\n",
        "argentines = df[df['Nationality'] =='Argentina']\n",
        "argentines"
      ],
      "metadata": {
        "colab": {
          "base_uri": "https://localhost:8080/",
          "height": 635
        },
        "id": "2vzKnDPjjvOV",
        "outputId": "88c89e0b-ac56-4fbc-823f-782862f8dda1"
      },
      "execution_count": 53,
      "outputs": [
        {
          "output_type": "execute_result",
          "data": {
            "text/plain": [
              "          ID         Name  Age  \\\n",
              "0     158023     L. Messi   31   \n",
              "15    211110    P. Dybala   24   \n",
              "23    153079    S. Agüero   30   \n",
              "43    201399    M. Icardi   25   \n",
              "89    192366  N. Otamendi   30   \n",
              "...      ...          ...  ...   \n",
              "7160  232582   W. Andrade   33   \n",
              "7166  223879     L. Ramos   28   \n",
              "7225  142998     C. Muñoz   41   \n",
              "7231  215192      G. Díaz   30   \n",
              "7262  231070    B. Pittón   25   \n",
              "\n",
              "                                               Photo Nationality  \\\n",
              "0     https://cdn.sofifa.org/players/4/19/158023.png   Argentina   \n",
              "15    https://cdn.sofifa.org/players/4/19/211110.png   Argentina   \n",
              "23    https://cdn.sofifa.org/players/4/19/153079.png   Argentina   \n",
              "43    https://cdn.sofifa.org/players/4/19/201399.png   Argentina   \n",
              "89    https://cdn.sofifa.org/players/4/19/192366.png   Argentina   \n",
              "...                                              ...         ...   \n",
              "7160  https://cdn.sofifa.org/players/4/19/232582.png   Argentina   \n",
              "7166  https://cdn.sofifa.org/players/4/19/223879.png   Argentina   \n",
              "7225  https://cdn.sofifa.org/players/4/19/142998.png   Argentina   \n",
              "7231  https://cdn.sofifa.org/players/4/19/215192.png   Argentina   \n",
              "7262  https://cdn.sofifa.org/players/4/19/231070.png   Argentina   \n",
              "\n",
              "                                     Flag  Overall  Potential  \\\n",
              "0     https://cdn.sofifa.org/flags/52.png       94         94   \n",
              "15    https://cdn.sofifa.org/flags/52.png       89         94   \n",
              "23    https://cdn.sofifa.org/flags/52.png       89         89   \n",
              "43    https://cdn.sofifa.org/flags/52.png       87         90   \n",
              "89    https://cdn.sofifa.org/flags/52.png       85         85   \n",
              "...                                   ...      ...        ...   \n",
              "7160  https://cdn.sofifa.org/flags/52.png       68         68   \n",
              "7166  https://cdn.sofifa.org/flags/52.png       68         68   \n",
              "7225  https://cdn.sofifa.org/flags/52.png       68         68   \n",
              "7231  https://cdn.sofifa.org/flags/52.png       68         68   \n",
              "7262  https://cdn.sofifa.org/flags/52.png       68         73   \n",
              "\n",
              "                              Club  \\\n",
              "0                     FC Barcelona   \n",
              "15                        Juventus   \n",
              "23                 Manchester City   \n",
              "43                           Inter   \n",
              "89                 Manchester City   \n",
              "...                            ...   \n",
              "7160                     Patronato   \n",
              "7166                    Lobos BUAP   \n",
              "7225  CD Universidad de Concepción   \n",
              "7231               Vélez Sarsfield   \n",
              "7262             Unión de Santa Fe   \n",
              "\n",
              "                                            Club Logo  ... Composure Marking  \\\n",
              "0        https://cdn.sofifa.org/teams/2/light/241.png  ...      96.0    33.0   \n",
              "15        https://cdn.sofifa.org/teams/2/light/45.png  ...      84.0    23.0   \n",
              "23        https://cdn.sofifa.org/teams/2/light/10.png  ...      90.0    30.0   \n",
              "43        https://cdn.sofifa.org/teams/2/light/44.png  ...      85.0    45.0   \n",
              "89        https://cdn.sofifa.org/teams/2/light/10.png  ...      80.0    83.0   \n",
              "...                                               ...  ...       ...     ...   \n",
              "7160  https://cdn.sofifa.org/teams/2/light/110581.png  ...      62.0    70.0   \n",
              "7166  https://cdn.sofifa.org/teams/2/light/111035.png  ...      70.0    40.0   \n",
              "7225  https://cdn.sofifa.org/teams/2/light/112534.png  ...      62.0    18.0   \n",
              "7231  https://cdn.sofifa.org/teams/2/light/101088.png  ...      56.0    64.0   \n",
              "7262  https://cdn.sofifa.org/teams/2/light/111716.png  ...      54.0    58.0   \n",
              "\n",
              "      StandingTackle SlidingTackle  GKDiving  GKHandling  GKKicking  \\\n",
              "0               28.0          26.0       6.0        11.0       15.0   \n",
              "15              20.0          20.0       5.0         4.0        4.0   \n",
              "23              20.0          12.0      13.0        15.0        6.0   \n",
              "43              24.0          20.0      13.0         9.0        5.0   \n",
              "89              85.0          84.0      12.0         5.0        8.0   \n",
              "...              ...           ...       ...         ...        ...   \n",
              "7160            68.0          61.0      10.0         6.0        9.0   \n",
              "7166            20.0          22.0      13.0        13.0        8.0   \n",
              "7225            14.0          19.0      67.0        65.0       68.0   \n",
              "7231            62.0          59.0       7.0         8.0        8.0   \n",
              "7262            68.0          67.0      10.0        11.0        5.0   \n",
              "\n",
              "     GKPositioning GKReflexes Release Clause  \n",
              "0             14.0        8.0       226500.0  \n",
              "15             5.0        8.0       153500.0  \n",
              "23            11.0       14.0       119300.0  \n",
              "43             7.0        9.0       114500.0  \n",
              "89            11.0       12.0        52700.0  \n",
              "...            ...        ...            ...  \n",
              "7160           6.0       13.0       544000.0  \n",
              "7166          10.0       12.0         1500.0  \n",
              "7225          71.0       68.0        84000.0  \n",
              "7231           7.0        8.0       975000.0  \n",
              "7262           9.0        8.0         1500.0  \n",
              "\n",
              "[468 rows x 88 columns]"
            ],
            "text/html": [
              "\n",
              "  <div id=\"df-4c611f93-a74a-4bfc-9050-1a2c14d5dbf0\" class=\"colab-df-container\">\n",
              "    <div>\n",
              "<style scoped>\n",
              "    .dataframe tbody tr th:only-of-type {\n",
              "        vertical-align: middle;\n",
              "    }\n",
              "\n",
              "    .dataframe tbody tr th {\n",
              "        vertical-align: top;\n",
              "    }\n",
              "\n",
              "    .dataframe thead th {\n",
              "        text-align: right;\n",
              "    }\n",
              "</style>\n",
              "<table border=\"1\" class=\"dataframe\">\n",
              "  <thead>\n",
              "    <tr style=\"text-align: right;\">\n",
              "      <th></th>\n",
              "      <th>ID</th>\n",
              "      <th>Name</th>\n",
              "      <th>Age</th>\n",
              "      <th>Photo</th>\n",
              "      <th>Nationality</th>\n",
              "      <th>Flag</th>\n",
              "      <th>Overall</th>\n",
              "      <th>Potential</th>\n",
              "      <th>Club</th>\n",
              "      <th>Club Logo</th>\n",
              "      <th>...</th>\n",
              "      <th>Composure</th>\n",
              "      <th>Marking</th>\n",
              "      <th>StandingTackle</th>\n",
              "      <th>SlidingTackle</th>\n",
              "      <th>GKDiving</th>\n",
              "      <th>GKHandling</th>\n",
              "      <th>GKKicking</th>\n",
              "      <th>GKPositioning</th>\n",
              "      <th>GKReflexes</th>\n",
              "      <th>Release Clause</th>\n",
              "    </tr>\n",
              "  </thead>\n",
              "  <tbody>\n",
              "    <tr>\n",
              "      <th>0</th>\n",
              "      <td>158023</td>\n",
              "      <td>L. Messi</td>\n",
              "      <td>31</td>\n",
              "      <td>https://cdn.sofifa.org/players/4/19/158023.png</td>\n",
              "      <td>Argentina</td>\n",
              "      <td>https://cdn.sofifa.org/flags/52.png</td>\n",
              "      <td>94</td>\n",
              "      <td>94</td>\n",
              "      <td>FC Barcelona</td>\n",
              "      <td>https://cdn.sofifa.org/teams/2/light/241.png</td>\n",
              "      <td>...</td>\n",
              "      <td>96.0</td>\n",
              "      <td>33.0</td>\n",
              "      <td>28.0</td>\n",
              "      <td>26.0</td>\n",
              "      <td>6.0</td>\n",
              "      <td>11.0</td>\n",
              "      <td>15.0</td>\n",
              "      <td>14.0</td>\n",
              "      <td>8.0</td>\n",
              "      <td>226500.0</td>\n",
              "    </tr>\n",
              "    <tr>\n",
              "      <th>15</th>\n",
              "      <td>211110</td>\n",
              "      <td>P. Dybala</td>\n",
              "      <td>24</td>\n",
              "      <td>https://cdn.sofifa.org/players/4/19/211110.png</td>\n",
              "      <td>Argentina</td>\n",
              "      <td>https://cdn.sofifa.org/flags/52.png</td>\n",
              "      <td>89</td>\n",
              "      <td>94</td>\n",
              "      <td>Juventus</td>\n",
              "      <td>https://cdn.sofifa.org/teams/2/light/45.png</td>\n",
              "      <td>...</td>\n",
              "      <td>84.0</td>\n",
              "      <td>23.0</td>\n",
              "      <td>20.0</td>\n",
              "      <td>20.0</td>\n",
              "      <td>5.0</td>\n",
              "      <td>4.0</td>\n",
              "      <td>4.0</td>\n",
              "      <td>5.0</td>\n",
              "      <td>8.0</td>\n",
              "      <td>153500.0</td>\n",
              "    </tr>\n",
              "    <tr>\n",
              "      <th>23</th>\n",
              "      <td>153079</td>\n",
              "      <td>S. Agüero</td>\n",
              "      <td>30</td>\n",
              "      <td>https://cdn.sofifa.org/players/4/19/153079.png</td>\n",
              "      <td>Argentina</td>\n",
              "      <td>https://cdn.sofifa.org/flags/52.png</td>\n",
              "      <td>89</td>\n",
              "      <td>89</td>\n",
              "      <td>Manchester City</td>\n",
              "      <td>https://cdn.sofifa.org/teams/2/light/10.png</td>\n",
              "      <td>...</td>\n",
              "      <td>90.0</td>\n",
              "      <td>30.0</td>\n",
              "      <td>20.0</td>\n",
              "      <td>12.0</td>\n",
              "      <td>13.0</td>\n",
              "      <td>15.0</td>\n",
              "      <td>6.0</td>\n",
              "      <td>11.0</td>\n",
              "      <td>14.0</td>\n",
              "      <td>119300.0</td>\n",
              "    </tr>\n",
              "    <tr>\n",
              "      <th>43</th>\n",
              "      <td>201399</td>\n",
              "      <td>M. Icardi</td>\n",
              "      <td>25</td>\n",
              "      <td>https://cdn.sofifa.org/players/4/19/201399.png</td>\n",
              "      <td>Argentina</td>\n",
              "      <td>https://cdn.sofifa.org/flags/52.png</td>\n",
              "      <td>87</td>\n",
              "      <td>90</td>\n",
              "      <td>Inter</td>\n",
              "      <td>https://cdn.sofifa.org/teams/2/light/44.png</td>\n",
              "      <td>...</td>\n",
              "      <td>85.0</td>\n",
              "      <td>45.0</td>\n",
              "      <td>24.0</td>\n",
              "      <td>20.0</td>\n",
              "      <td>13.0</td>\n",
              "      <td>9.0</td>\n",
              "      <td>5.0</td>\n",
              "      <td>7.0</td>\n",
              "      <td>9.0</td>\n",
              "      <td>114500.0</td>\n",
              "    </tr>\n",
              "    <tr>\n",
              "      <th>89</th>\n",
              "      <td>192366</td>\n",
              "      <td>N. Otamendi</td>\n",
              "      <td>30</td>\n",
              "      <td>https://cdn.sofifa.org/players/4/19/192366.png</td>\n",
              "      <td>Argentina</td>\n",
              "      <td>https://cdn.sofifa.org/flags/52.png</td>\n",
              "      <td>85</td>\n",
              "      <td>85</td>\n",
              "      <td>Manchester City</td>\n",
              "      <td>https://cdn.sofifa.org/teams/2/light/10.png</td>\n",
              "      <td>...</td>\n",
              "      <td>80.0</td>\n",
              "      <td>83.0</td>\n",
              "      <td>85.0</td>\n",
              "      <td>84.0</td>\n",
              "      <td>12.0</td>\n",
              "      <td>5.0</td>\n",
              "      <td>8.0</td>\n",
              "      <td>11.0</td>\n",
              "      <td>12.0</td>\n",
              "      <td>52700.0</td>\n",
              "    </tr>\n",
              "    <tr>\n",
              "      <th>...</th>\n",
              "      <td>...</td>\n",
              "      <td>...</td>\n",
              "      <td>...</td>\n",
              "      <td>...</td>\n",
              "      <td>...</td>\n",
              "      <td>...</td>\n",
              "      <td>...</td>\n",
              "      <td>...</td>\n",
              "      <td>...</td>\n",
              "      <td>...</td>\n",
              "      <td>...</td>\n",
              "      <td>...</td>\n",
              "      <td>...</td>\n",
              "      <td>...</td>\n",
              "      <td>...</td>\n",
              "      <td>...</td>\n",
              "      <td>...</td>\n",
              "      <td>...</td>\n",
              "      <td>...</td>\n",
              "      <td>...</td>\n",
              "      <td>...</td>\n",
              "    </tr>\n",
              "    <tr>\n",
              "      <th>7160</th>\n",
              "      <td>232582</td>\n",
              "      <td>W. Andrade</td>\n",
              "      <td>33</td>\n",
              "      <td>https://cdn.sofifa.org/players/4/19/232582.png</td>\n",
              "      <td>Argentina</td>\n",
              "      <td>https://cdn.sofifa.org/flags/52.png</td>\n",
              "      <td>68</td>\n",
              "      <td>68</td>\n",
              "      <td>Patronato</td>\n",
              "      <td>https://cdn.sofifa.org/teams/2/light/110581.png</td>\n",
              "      <td>...</td>\n",
              "      <td>62.0</td>\n",
              "      <td>70.0</td>\n",
              "      <td>68.0</td>\n",
              "      <td>61.0</td>\n",
              "      <td>10.0</td>\n",
              "      <td>6.0</td>\n",
              "      <td>9.0</td>\n",
              "      <td>6.0</td>\n",
              "      <td>13.0</td>\n",
              "      <td>544000.0</td>\n",
              "    </tr>\n",
              "    <tr>\n",
              "      <th>7166</th>\n",
              "      <td>223879</td>\n",
              "      <td>L. Ramos</td>\n",
              "      <td>28</td>\n",
              "      <td>https://cdn.sofifa.org/players/4/19/223879.png</td>\n",
              "      <td>Argentina</td>\n",
              "      <td>https://cdn.sofifa.org/flags/52.png</td>\n",
              "      <td>68</td>\n",
              "      <td>68</td>\n",
              "      <td>Lobos BUAP</td>\n",
              "      <td>https://cdn.sofifa.org/teams/2/light/111035.png</td>\n",
              "      <td>...</td>\n",
              "      <td>70.0</td>\n",
              "      <td>40.0</td>\n",
              "      <td>20.0</td>\n",
              "      <td>22.0</td>\n",
              "      <td>13.0</td>\n",
              "      <td>13.0</td>\n",
              "      <td>8.0</td>\n",
              "      <td>10.0</td>\n",
              "      <td>12.0</td>\n",
              "      <td>1500.0</td>\n",
              "    </tr>\n",
              "    <tr>\n",
              "      <th>7225</th>\n",
              "      <td>142998</td>\n",
              "      <td>C. Muñoz</td>\n",
              "      <td>41</td>\n",
              "      <td>https://cdn.sofifa.org/players/4/19/142998.png</td>\n",
              "      <td>Argentina</td>\n",
              "      <td>https://cdn.sofifa.org/flags/52.png</td>\n",
              "      <td>68</td>\n",
              "      <td>68</td>\n",
              "      <td>CD Universidad de Concepción</td>\n",
              "      <td>https://cdn.sofifa.org/teams/2/light/112534.png</td>\n",
              "      <td>...</td>\n",
              "      <td>62.0</td>\n",
              "      <td>18.0</td>\n",
              "      <td>14.0</td>\n",
              "      <td>19.0</td>\n",
              "      <td>67.0</td>\n",
              "      <td>65.0</td>\n",
              "      <td>68.0</td>\n",
              "      <td>71.0</td>\n",
              "      <td>68.0</td>\n",
              "      <td>84000.0</td>\n",
              "    </tr>\n",
              "    <tr>\n",
              "      <th>7231</th>\n",
              "      <td>215192</td>\n",
              "      <td>G. Díaz</td>\n",
              "      <td>30</td>\n",
              "      <td>https://cdn.sofifa.org/players/4/19/215192.png</td>\n",
              "      <td>Argentina</td>\n",
              "      <td>https://cdn.sofifa.org/flags/52.png</td>\n",
              "      <td>68</td>\n",
              "      <td>68</td>\n",
              "      <td>Vélez Sarsfield</td>\n",
              "      <td>https://cdn.sofifa.org/teams/2/light/101088.png</td>\n",
              "      <td>...</td>\n",
              "      <td>56.0</td>\n",
              "      <td>64.0</td>\n",
              "      <td>62.0</td>\n",
              "      <td>59.0</td>\n",
              "      <td>7.0</td>\n",
              "      <td>8.0</td>\n",
              "      <td>8.0</td>\n",
              "      <td>7.0</td>\n",
              "      <td>8.0</td>\n",
              "      <td>975000.0</td>\n",
              "    </tr>\n",
              "    <tr>\n",
              "      <th>7262</th>\n",
              "      <td>231070</td>\n",
              "      <td>B. Pittón</td>\n",
              "      <td>25</td>\n",
              "      <td>https://cdn.sofifa.org/players/4/19/231070.png</td>\n",
              "      <td>Argentina</td>\n",
              "      <td>https://cdn.sofifa.org/flags/52.png</td>\n",
              "      <td>68</td>\n",
              "      <td>73</td>\n",
              "      <td>Unión de Santa Fe</td>\n",
              "      <td>https://cdn.sofifa.org/teams/2/light/111716.png</td>\n",
              "      <td>...</td>\n",
              "      <td>54.0</td>\n",
              "      <td>58.0</td>\n",
              "      <td>68.0</td>\n",
              "      <td>67.0</td>\n",
              "      <td>10.0</td>\n",
              "      <td>11.0</td>\n",
              "      <td>5.0</td>\n",
              "      <td>9.0</td>\n",
              "      <td>8.0</td>\n",
              "      <td>1500.0</td>\n",
              "    </tr>\n",
              "  </tbody>\n",
              "</table>\n",
              "<p>468 rows × 88 columns</p>\n",
              "</div>\n",
              "    <div class=\"colab-df-buttons\">\n",
              "\n",
              "  <div class=\"colab-df-container\">\n",
              "    <button class=\"colab-df-convert\" onclick=\"convertToInteractive('df-4c611f93-a74a-4bfc-9050-1a2c14d5dbf0')\"\n",
              "            title=\"Convert this dataframe to an interactive table.\"\n",
              "            style=\"display:none;\">\n",
              "\n",
              "  <svg xmlns=\"http://www.w3.org/2000/svg\" height=\"24px\" viewBox=\"0 -960 960 960\">\n",
              "    <path d=\"M120-120v-720h720v720H120Zm60-500h600v-160H180v160Zm220 220h160v-160H400v160Zm0 220h160v-160H400v160ZM180-400h160v-160H180v160Zm440 0h160v-160H620v160ZM180-180h160v-160H180v160Zm440 0h160v-160H620v160Z\"/>\n",
              "  </svg>\n",
              "    </button>\n",
              "\n",
              "  <style>\n",
              "    .colab-df-container {\n",
              "      display:flex;\n",
              "      gap: 12px;\n",
              "    }\n",
              "\n",
              "    .colab-df-convert {\n",
              "      background-color: #E8F0FE;\n",
              "      border: none;\n",
              "      border-radius: 50%;\n",
              "      cursor: pointer;\n",
              "      display: none;\n",
              "      fill: #1967D2;\n",
              "      height: 32px;\n",
              "      padding: 0 0 0 0;\n",
              "      width: 32px;\n",
              "    }\n",
              "\n",
              "    .colab-df-convert:hover {\n",
              "      background-color: #E2EBFA;\n",
              "      box-shadow: 0px 1px 2px rgba(60, 64, 67, 0.3), 0px 1px 3px 1px rgba(60, 64, 67, 0.15);\n",
              "      fill: #174EA6;\n",
              "    }\n",
              "\n",
              "    .colab-df-buttons div {\n",
              "      margin-bottom: 4px;\n",
              "    }\n",
              "\n",
              "    [theme=dark] .colab-df-convert {\n",
              "      background-color: #3B4455;\n",
              "      fill: #D2E3FC;\n",
              "    }\n",
              "\n",
              "    [theme=dark] .colab-df-convert:hover {\n",
              "      background-color: #434B5C;\n",
              "      box-shadow: 0px 1px 3px 1px rgba(0, 0, 0, 0.15);\n",
              "      filter: drop-shadow(0px 1px 2px rgba(0, 0, 0, 0.3));\n",
              "      fill: #FFFFFF;\n",
              "    }\n",
              "  </style>\n",
              "\n",
              "    <script>\n",
              "      const buttonEl =\n",
              "        document.querySelector('#df-4c611f93-a74a-4bfc-9050-1a2c14d5dbf0 button.colab-df-convert');\n",
              "      buttonEl.style.display =\n",
              "        google.colab.kernel.accessAllowed ? 'block' : 'none';\n",
              "\n",
              "      async function convertToInteractive(key) {\n",
              "        const element = document.querySelector('#df-4c611f93-a74a-4bfc-9050-1a2c14d5dbf0');\n",
              "        const dataTable =\n",
              "          await google.colab.kernel.invokeFunction('convertToInteractive',\n",
              "                                                    [key], {});\n",
              "        if (!dataTable) return;\n",
              "\n",
              "        const docLinkHtml = 'Like what you see? Visit the ' +\n",
              "          '<a target=\"_blank\" href=https://colab.research.google.com/notebooks/data_table.ipynb>data table notebook</a>'\n",
              "          + ' to learn more about interactive tables.';\n",
              "        element.innerHTML = '';\n",
              "        dataTable['output_type'] = 'display_data';\n",
              "        await google.colab.output.renderOutput(dataTable, element);\n",
              "        const docLink = document.createElement('div');\n",
              "        docLink.innerHTML = docLinkHtml;\n",
              "        element.appendChild(docLink);\n",
              "      }\n",
              "    </script>\n",
              "  </div>\n",
              "\n",
              "\n",
              "    <div id=\"df-dc5341a1-6764-4333-9d5c-e8ca08df8af7\">\n",
              "      <button class=\"colab-df-quickchart\" onclick=\"quickchart('df-dc5341a1-6764-4333-9d5c-e8ca08df8af7')\"\n",
              "                title=\"Suggest charts\"\n",
              "                style=\"display:none;\">\n",
              "\n",
              "<svg xmlns=\"http://www.w3.org/2000/svg\" height=\"24px\"viewBox=\"0 0 24 24\"\n",
              "     width=\"24px\">\n",
              "    <g>\n",
              "        <path d=\"M19 3H5c-1.1 0-2 .9-2 2v14c0 1.1.9 2 2 2h14c1.1 0 2-.9 2-2V5c0-1.1-.9-2-2-2zM9 17H7v-7h2v7zm4 0h-2V7h2v10zm4 0h-2v-4h2v4z\"/>\n",
              "    </g>\n",
              "</svg>\n",
              "      </button>\n",
              "\n",
              "<style>\n",
              "  .colab-df-quickchart {\n",
              "      --bg-color: #E8F0FE;\n",
              "      --fill-color: #1967D2;\n",
              "      --hover-bg-color: #E2EBFA;\n",
              "      --hover-fill-color: #174EA6;\n",
              "      --disabled-fill-color: #AAA;\n",
              "      --disabled-bg-color: #DDD;\n",
              "  }\n",
              "\n",
              "  [theme=dark] .colab-df-quickchart {\n",
              "      --bg-color: #3B4455;\n",
              "      --fill-color: #D2E3FC;\n",
              "      --hover-bg-color: #434B5C;\n",
              "      --hover-fill-color: #FFFFFF;\n",
              "      --disabled-bg-color: #3B4455;\n",
              "      --disabled-fill-color: #666;\n",
              "  }\n",
              "\n",
              "  .colab-df-quickchart {\n",
              "    background-color: var(--bg-color);\n",
              "    border: none;\n",
              "    border-radius: 50%;\n",
              "    cursor: pointer;\n",
              "    display: none;\n",
              "    fill: var(--fill-color);\n",
              "    height: 32px;\n",
              "    padding: 0;\n",
              "    width: 32px;\n",
              "  }\n",
              "\n",
              "  .colab-df-quickchart:hover {\n",
              "    background-color: var(--hover-bg-color);\n",
              "    box-shadow: 0 1px 2px rgba(60, 64, 67, 0.3), 0 1px 3px 1px rgba(60, 64, 67, 0.15);\n",
              "    fill: var(--button-hover-fill-color);\n",
              "  }\n",
              "\n",
              "  .colab-df-quickchart-complete:disabled,\n",
              "  .colab-df-quickchart-complete:disabled:hover {\n",
              "    background-color: var(--disabled-bg-color);\n",
              "    fill: var(--disabled-fill-color);\n",
              "    box-shadow: none;\n",
              "  }\n",
              "\n",
              "  .colab-df-spinner {\n",
              "    border: 2px solid var(--fill-color);\n",
              "    border-color: transparent;\n",
              "    border-bottom-color: var(--fill-color);\n",
              "    animation:\n",
              "      spin 1s steps(1) infinite;\n",
              "  }\n",
              "\n",
              "  @keyframes spin {\n",
              "    0% {\n",
              "      border-color: transparent;\n",
              "      border-bottom-color: var(--fill-color);\n",
              "      border-left-color: var(--fill-color);\n",
              "    }\n",
              "    20% {\n",
              "      border-color: transparent;\n",
              "      border-left-color: var(--fill-color);\n",
              "      border-top-color: var(--fill-color);\n",
              "    }\n",
              "    30% {\n",
              "      border-color: transparent;\n",
              "      border-left-color: var(--fill-color);\n",
              "      border-top-color: var(--fill-color);\n",
              "      border-right-color: var(--fill-color);\n",
              "    }\n",
              "    40% {\n",
              "      border-color: transparent;\n",
              "      border-right-color: var(--fill-color);\n",
              "      border-top-color: var(--fill-color);\n",
              "    }\n",
              "    60% {\n",
              "      border-color: transparent;\n",
              "      border-right-color: var(--fill-color);\n",
              "    }\n",
              "    80% {\n",
              "      border-color: transparent;\n",
              "      border-right-color: var(--fill-color);\n",
              "      border-bottom-color: var(--fill-color);\n",
              "    }\n",
              "    90% {\n",
              "      border-color: transparent;\n",
              "      border-bottom-color: var(--fill-color);\n",
              "    }\n",
              "  }\n",
              "</style>\n",
              "\n",
              "      <script>\n",
              "        async function quickchart(key) {\n",
              "          const quickchartButtonEl =\n",
              "            document.querySelector('#' + key + ' button');\n",
              "          quickchartButtonEl.disabled = true;  // To prevent multiple clicks.\n",
              "          quickchartButtonEl.classList.add('colab-df-spinner');\n",
              "          try {\n",
              "            const charts = await google.colab.kernel.invokeFunction(\n",
              "                'suggestCharts', [key], {});\n",
              "          } catch (error) {\n",
              "            console.error('Error during call to suggestCharts:', error);\n",
              "          }\n",
              "          quickchartButtonEl.classList.remove('colab-df-spinner');\n",
              "          quickchartButtonEl.classList.add('colab-df-quickchart-complete');\n",
              "        }\n",
              "        (() => {\n",
              "          let quickchartButtonEl =\n",
              "            document.querySelector('#df-dc5341a1-6764-4333-9d5c-e8ca08df8af7 button');\n",
              "          quickchartButtonEl.style.display =\n",
              "            google.colab.kernel.accessAllowed ? 'block' : 'none';\n",
              "        })();\n",
              "      </script>\n",
              "    </div>\n",
              "\n",
              "  <div id=\"id_1575d72a-73ec-4425-9203-5fa5addc6900\">\n",
              "    <style>\n",
              "      .colab-df-generate {\n",
              "        background-color: #E8F0FE;\n",
              "        border: none;\n",
              "        border-radius: 50%;\n",
              "        cursor: pointer;\n",
              "        display: none;\n",
              "        fill: #1967D2;\n",
              "        height: 32px;\n",
              "        padding: 0 0 0 0;\n",
              "        width: 32px;\n",
              "      }\n",
              "\n",
              "      .colab-df-generate:hover {\n",
              "        background-color: #E2EBFA;\n",
              "        box-shadow: 0px 1px 2px rgba(60, 64, 67, 0.3), 0px 1px 3px 1px rgba(60, 64, 67, 0.15);\n",
              "        fill: #174EA6;\n",
              "      }\n",
              "\n",
              "      [theme=dark] .colab-df-generate {\n",
              "        background-color: #3B4455;\n",
              "        fill: #D2E3FC;\n",
              "      }\n",
              "\n",
              "      [theme=dark] .colab-df-generate:hover {\n",
              "        background-color: #434B5C;\n",
              "        box-shadow: 0px 1px 3px 1px rgba(0, 0, 0, 0.15);\n",
              "        filter: drop-shadow(0px 1px 2px rgba(0, 0, 0, 0.3));\n",
              "        fill: #FFFFFF;\n",
              "      }\n",
              "    </style>\n",
              "    <button class=\"colab-df-generate\" onclick=\"generateWithVariable('argentines')\"\n",
              "            title=\"Generate code using this dataframe.\"\n",
              "            style=\"display:none;\">\n",
              "\n",
              "  <svg xmlns=\"http://www.w3.org/2000/svg\" height=\"24px\"viewBox=\"0 0 24 24\"\n",
              "       width=\"24px\">\n",
              "    <path d=\"M7,19H8.4L18.45,9,17,7.55,7,17.6ZM5,21V16.75L18.45,3.32a2,2,0,0,1,2.83,0l1.4,1.43a1.91,1.91,0,0,1,.58,1.4,1.91,1.91,0,0,1-.58,1.4L9.25,21ZM18.45,9,17,7.55Zm-12,3A5.31,5.31,0,0,0,4.9,8.1,5.31,5.31,0,0,0,1,6.5,5.31,5.31,0,0,0,4.9,4.9,5.31,5.31,0,0,0,6.5,1,5.31,5.31,0,0,0,8.1,4.9,5.31,5.31,0,0,0,12,6.5,5.46,5.46,0,0,0,6.5,12Z\"/>\n",
              "  </svg>\n",
              "    </button>\n",
              "    <script>\n",
              "      (() => {\n",
              "      const buttonEl =\n",
              "        document.querySelector('#id_1575d72a-73ec-4425-9203-5fa5addc6900 button.colab-df-generate');\n",
              "      buttonEl.style.display =\n",
              "        google.colab.kernel.accessAllowed ? 'block' : 'none';\n",
              "\n",
              "      buttonEl.onclick = () => {\n",
              "        google.colab.notebook.generateWithVariable('argentines');\n",
              "      }\n",
              "      })();\n",
              "    </script>\n",
              "  </div>\n",
              "\n",
              "    </div>\n",
              "  </div>\n"
            ],
            "application/vnd.google.colaboratory.intrinsic+json": {
              "type": "dataframe",
              "variable_name": "argentines"
            }
          },
          "metadata": {},
          "execution_count": 53
        }
      ]
    },
    {
      "cell_type": "code",
      "source": [
        "oldest_argentine_player = argentines.loc[argentines[\"Age\"].idxmax()]\n",
        "oldest_argentine_player"
      ],
      "metadata": {
        "colab": {
          "base_uri": "https://localhost:8080/",
          "height": 458
        },
        "id": "FKX9xpHkkxHd",
        "outputId": "fc6d2c60-f683-4e77-c741-adb08405d2a1"
      },
      "execution_count": 105,
      "outputs": [
        {
          "output_type": "execute_result",
          "data": {
            "text/plain": [
              "ID                                                        142998\n",
              "Name                                                    C. Muñoz\n",
              "Age                                                           41\n",
              "Photo             https://cdn.sofifa.org/players/4/19/142998.png\n",
              "Nationality                                            Argentina\n",
              "                                       ...                      \n",
              "GKHandling                                                  65.0\n",
              "GKKicking                                                   68.0\n",
              "GKPositioning                                               71.0\n",
              "GKReflexes                                                  68.0\n",
              "Release Clause                                           84000.0\n",
              "Name: 7225, Length: 88, dtype: object"
            ],
            "text/html": [
              "<div>\n",
              "<style scoped>\n",
              "    .dataframe tbody tr th:only-of-type {\n",
              "        vertical-align: middle;\n",
              "    }\n",
              "\n",
              "    .dataframe tbody tr th {\n",
              "        vertical-align: top;\n",
              "    }\n",
              "\n",
              "    .dataframe thead th {\n",
              "        text-align: right;\n",
              "    }\n",
              "</style>\n",
              "<table border=\"1\" class=\"dataframe\">\n",
              "  <thead>\n",
              "    <tr style=\"text-align: right;\">\n",
              "      <th></th>\n",
              "      <th>7225</th>\n",
              "    </tr>\n",
              "  </thead>\n",
              "  <tbody>\n",
              "    <tr>\n",
              "      <th>ID</th>\n",
              "      <td>142998</td>\n",
              "    </tr>\n",
              "    <tr>\n",
              "      <th>Name</th>\n",
              "      <td>C. Muñoz</td>\n",
              "    </tr>\n",
              "    <tr>\n",
              "      <th>Age</th>\n",
              "      <td>41</td>\n",
              "    </tr>\n",
              "    <tr>\n",
              "      <th>Photo</th>\n",
              "      <td>https://cdn.sofifa.org/players/4/19/142998.png</td>\n",
              "    </tr>\n",
              "    <tr>\n",
              "      <th>Nationality</th>\n",
              "      <td>Argentina</td>\n",
              "    </tr>\n",
              "    <tr>\n",
              "      <th>...</th>\n",
              "      <td>...</td>\n",
              "    </tr>\n",
              "    <tr>\n",
              "      <th>GKHandling</th>\n",
              "      <td>65.0</td>\n",
              "    </tr>\n",
              "    <tr>\n",
              "      <th>GKKicking</th>\n",
              "      <td>68.0</td>\n",
              "    </tr>\n",
              "    <tr>\n",
              "      <th>GKPositioning</th>\n",
              "      <td>71.0</td>\n",
              "    </tr>\n",
              "    <tr>\n",
              "      <th>GKReflexes</th>\n",
              "      <td>68.0</td>\n",
              "    </tr>\n",
              "    <tr>\n",
              "      <th>Release Clause</th>\n",
              "      <td>84000.0</td>\n",
              "    </tr>\n",
              "  </tbody>\n",
              "</table>\n",
              "<p>88 rows × 1 columns</p>\n",
              "</div><br><label><b>dtype:</b> object</label>"
            ]
          },
          "metadata": {},
          "execution_count": 105
        }
      ]
    },
    {
      "cell_type": "code",
      "source": [
        "oldest_argentine_name = oldest_argentine_player['Name']\n",
        "oldest_argentine_name"
      ],
      "metadata": {
        "colab": {
          "base_uri": "https://localhost:8080/",
          "height": 35
        },
        "id": "QsIurb0M_47s",
        "outputId": "15804e6b-c991-408c-f305-ef4dcbb5fdb6"
      },
      "execution_count": 106,
      "outputs": [
        {
          "output_type": "execute_result",
          "data": {
            "text/plain": [
              "'C. Muñoz'"
            ],
            "application/vnd.google.colaboratory.intrinsic+json": {
              "type": "string"
            }
          },
          "metadata": {},
          "execution_count": 106
        }
      ]
    },
    {
      "cell_type": "code",
      "execution_count": 107,
      "metadata": {
        "nbgrader": {
          "grade": false,
          "grade_id": "cell-8a8f465bb935cc1a",
          "locked": true,
          "schema_version": 3,
          "solution": false,
          "task": false
        },
        "id": "ofdnmRhE_iaD",
        "colab": {
          "base_uri": "https://localhost:8080/"
        },
        "outputId": "eb7bb0b0-7d61-43a4-e70c-48b0857511f8"
      },
      "outputs": [
        {
          "output_type": "execute_result",
          "data": {
            "text/plain": [
              "np.int64(41)"
            ]
          },
          "metadata": {},
          "execution_count": 107
        }
      ],
      "source": [
        "oldest_argentine_age = oldest_argentine_player['Age']\n",
        "oldest_argentine_age"
      ]
    },
    {
      "cell_type": "code",
      "execution_count": 104,
      "metadata": {
        "id": "BUDC3--0_iaD",
        "colab": {
          "base_uri": "https://localhost:8080/"
        },
        "outputId": "468c937f-5a5b-4f65-bdff-9cd7bcd4ea2e"
      },
      "outputs": [
        {
          "output_type": "execute_result",
          "data": {
            "text/plain": [
              "True"
            ]
          },
          "metadata": {},
          "execution_count": 104
        }
      ],
      "source": [
        "# This test confirms that you have created a string variable named oldest_argentine_name\n",
        "\n",
        "#assert\n",
        "type(oldest_argentine_name) == str\n",
        "\n",
        "# This test confirms that you have created a numeric variable named oldest_argentine_age\n",
        "\n",
        "#assert\n",
        "isinstance(oldest_argentine_age, Number)"
      ]
    },
    {
      "cell_type": "markdown",
      "metadata": {
        "nbgrader": {
          "grade": false,
          "grade_id": "cell-a7ce98ae6d482777",
          "locked": true,
          "schema_version": 3,
          "solution": false,
          "task": false
        },
        "id": "-kmZAr5L_iaE"
      },
      "source": [
        "## Part 4: Python Data Structures [Suggested Time: 20 min]\n",
        "\n",
        "Below is a dictionary `players` with information about soccer players. The keys are player names and the values are dictionaries containing each player's age, nationality, and a list of teams they have played for."
      ]
    },
    {
      "cell_type": "code",
      "execution_count": 68,
      "metadata": {
        "nbgrader": {
          "grade": false,
          "grade_id": "cell-aeec0f73b4c2686e",
          "locked": true,
          "schema_version": 3,
          "solution": false,
          "task": false
        },
        "id": "F9XtvJ-M_iaE"
      },
      "outputs": [],
      "source": [
        "# Run this cell without changes\n",
        "\n",
        "players = {\n",
        "    'L. Messi': {\n",
        "        'age': 31,\n",
        "        'nationality': 'Argentina',\n",
        "        'teams': ['Barcelona']\n",
        "    },\n",
        "    'Cristiano Ronaldo': {\n",
        "        'age': 33,\n",
        "        'nationality': 'Portugal',\n",
        "        'teams': ['Juventus', 'Real Madrid', 'Manchester United']\n",
        "    },\n",
        "    'Neymar Jr': {\n",
        "        'age': 26,\n",
        "        'nationality': 'Brazil',\n",
        "        'teams': ['Santos', 'Barcelona', 'Paris Saint-German']\n",
        "    },\n",
        "    'De Gea': {\n",
        "        'age': 27,\n",
        "        'nationality': 'Spain',\n",
        "        'teams': ['Atletico Madrid', 'Manchester United']\n",
        "    },\n",
        "    'K. De Bruyne': {\n",
        "        'age': 27,\n",
        "        'nationality': 'Belgium',\n",
        "        'teams': ['Chelsea', 'Manchester City']\n",
        "    }\n",
        "}"
      ]
    },
    {
      "cell_type": "markdown",
      "metadata": {
        "nbgrader": {
          "grade": false,
          "grade_id": "cell-c53443152551683e",
          "locked": true,
          "schema_version": 3,
          "solution": false,
          "task": false
        },
        "id": "5KO-6lKi_iaE"
      },
      "source": [
        "### 4.1) Create a list `player_names` of all the player names in dictionary `players`."
      ]
    },
    {
      "cell_type": "code",
      "execution_count": 69,
      "metadata": {
        "nbgrader": {
          "grade": false,
          "grade_id": "cell-59b73bc797a324dd",
          "locked": true,
          "schema_version": 3,
          "solution": false,
          "task": false
        },
        "id": "9uQl2mEP_iaE",
        "colab": {
          "base_uri": "https://localhost:8080/"
        },
        "outputId": "6813ecd3-cabe-48ff-91fa-d80f3efbe19a"
      },
      "outputs": [
        {
          "output_type": "execute_result",
          "data": {
            "text/plain": [
              "['L. Messi', 'Cristiano Ronaldo', 'Neymar Jr', 'De Gea', 'K. De Bruyne']"
            ]
          },
          "metadata": {},
          "execution_count": 69
        }
      ],
      "source": [
        "# CodeGrade step4.1\n",
        "# Replace None with appropriate code\n",
        "\n",
        "player_names = list(players)\n",
        "player_names"
      ]
    },
    {
      "cell_type": "code",
      "execution_count": 70,
      "metadata": {
        "id": "wtK9RkQM_iaF",
        "colab": {
          "base_uri": "https://localhost:8080/"
        },
        "outputId": "db458acf-92b7-46f2-e251-6702772fd609"
      },
      "outputs": [
        {
          "output_type": "execute_result",
          "data": {
            "text/plain": [
              "True"
            ]
          },
          "metadata": {},
          "execution_count": 70
        }
      ],
      "source": [
        "# This test confirms that you have created a list named player_names\n",
        "\n",
        "#assert\n",
        "type(player_names) == list"
      ]
    },
    {
      "cell_type": "markdown",
      "metadata": {
        "nbgrader": {
          "grade": false,
          "grade_id": "cell-b9f6a94ed0a0865e",
          "locked": true,
          "schema_version": 3,
          "solution": false,
          "task": false
        },
        "id": "UFhfiQW4_iaF"
      },
      "source": [
        "### 4.2) Create a list of tuples `player_nationalities` containing each player's name along with their nationality."
      ]
    },
    {
      "cell_type": "code",
      "execution_count": 71,
      "metadata": {
        "nbgrader": {
          "grade": false,
          "grade_id": "cell-b52f98d5a617ecee",
          "locked": true,
          "schema_version": 3,
          "solution": false,
          "task": false
        },
        "id": "d3IyR1TA_iaF",
        "colab": {
          "base_uri": "https://localhost:8080/"
        },
        "outputId": "9fd87327-3c09-4c20-867e-09013ac4daa7"
      },
      "outputs": [
        {
          "output_type": "stream",
          "name": "stdout",
          "text": [
            "[('L. Messi', 'Argentina'), ('Cristiano Ronaldo', 'Portugal'), ('Neymar Jr', 'Brazil'), ('De Gea', 'Spain'), ('K. De Bruyne', 'Belgium')]\n"
          ]
        }
      ],
      "source": [
        "# CodeGrade step4.2\n",
        "# Replace None with appropriate code\n",
        "\n",
        "\n",
        "player_nationalities = []\n",
        "for name in players:\n",
        "    nationality = players[name]['nationality']\n",
        "    player_nationalities.append((name, nationality))\n",
        "\n",
        "print(player_nationalities)"
      ]
    },
    {
      "cell_type": "code",
      "execution_count": 72,
      "metadata": {
        "id": "jV-i4QWh_iaF",
        "colab": {
          "base_uri": "https://localhost:8080/"
        },
        "outputId": "0f1cf3b7-97b7-496f-f0c8-75654902bca1"
      },
      "outputs": [
        {
          "output_type": "execute_result",
          "data": {
            "text/plain": [
              "True"
            ]
          },
          "metadata": {},
          "execution_count": 72
        }
      ],
      "source": [
        "# This test confirms that you have created a list named player_nationalities\n",
        "\n",
        "#assert\n",
        "type(player_nationalities) == list"
      ]
    },
    {
      "cell_type": "markdown",
      "metadata": {
        "nbgrader": {
          "grade": false,
          "grade_id": "cell-87a014f4e268c1d7",
          "locked": true,
          "schema_version": 3,
          "solution": false,
          "task": false
        },
        "id": "njpSZxC8_iaG"
      },
      "source": [
        "### 4.3) Define a function `get_players_on_team()` that returns a list of names of all the players who have played on a given team.\n",
        "\n",
        "Your function should take two arguments:\n",
        "\n",
        "- A dictionary of player information\n",
        "- A string containing a team name (for which you are trying to find the player names)"
      ]
    },
    {
      "cell_type": "code",
      "execution_count": 108,
      "metadata": {
        "nbgrader": {
          "grade": false,
          "grade_id": "cell-9546ae6235a3a164",
          "locked": true,
          "schema_version": 3,
          "solution": false,
          "task": false
        },
        "id": "4QSP9MvH_iaM",
        "colab": {
          "base_uri": "https://localhost:8080/",
          "height": 211
        },
        "outputId": "610b5aa5-71be-4d58-d1eb-139ca636e2c8"
      },
      "outputs": [
        {
          "output_type": "error",
          "ename": "NameError",
          "evalue": "name 'player_list' is not defined",
          "traceback": [
            "\u001b[0;31m---------------------------------------------------------------------------\u001b[0m",
            "\u001b[0;31mNameError\u001b[0m                                 Traceback (most recent call last)",
            "\u001b[0;32m/tmp/ipython-input-108-2224118538.py\u001b[0m in \u001b[0;36m<cell line: 0>\u001b[0;34m()\u001b[0m\n\u001b[1;32m      8\u001b[0m \u001b[0;32mfor\u001b[0m \u001b[0mplayer_names\u001b[0m \u001b[0;32min\u001b[0m \u001b[0mplayers\u001b[0m\u001b[0;34m:\u001b[0m\u001b[0;34m\u001b[0m\u001b[0;34m\u001b[0m\u001b[0m\n\u001b[1;32m      9\u001b[0m   \u001b[0mteam_name\u001b[0m \u001b[0;34m=\u001b[0m \u001b[0mplayers\u001b[0m\u001b[0;34m[\u001b[0m\u001b[0mplayer_names\u001b[0m\u001b[0;34m]\u001b[0m\u001b[0;34m[\u001b[0m\u001b[0;34m'teams'\u001b[0m\u001b[0;34m]\u001b[0m\u001b[0;34m\u001b[0m\u001b[0;34m\u001b[0m\u001b[0m\n\u001b[0;32m---> 10\u001b[0;31m   \u001b[0mplayer_list\u001b[0m\u001b[0;34m.\u001b[0m\u001b[0mappend\u001b[0m\u001b[0;34m(\u001b[0m\u001b[0;34m(\u001b[0m\u001b[0mplayer_names\u001b[0m\u001b[0;34m)\u001b[0m\u001b[0;34m)\u001b[0m\u001b[0;34m\u001b[0m\u001b[0;34m\u001b[0m\u001b[0m\n\u001b[0m\u001b[1;32m     11\u001b[0m \u001b[0;34m\u001b[0m\u001b[0m\n\u001b[1;32m     12\u001b[0m \u001b[0;32mreturn\u001b[0m \u001b[0mplayer_list\u001b[0m\u001b[0;34m\u001b[0m\u001b[0;34m\u001b[0m\u001b[0m\n",
            "\u001b[0;31mNameError\u001b[0m: name 'player_list' is not defined"
          ]
        }
      ],
      "source": [
        "# CodeGrade step4.3\n",
        "\n",
        "def get_players_on_team(player_dict, team_name):\n",
        "    player_list = []\n",
        "\n",
        "    # Your code here\n",
        "\n",
        "for player_names in players:\n",
        "  team_name = players[player_names]['teams']\n",
        "  player_list.append((player_names))\n",
        "\n",
        "return player_list"
      ]
    },
    {
      "cell_type": "code",
      "execution_count": 74,
      "metadata": {
        "id": "yq9t-CDM_iaM",
        "colab": {
          "base_uri": "https://localhost:8080/"
        },
        "outputId": "f6bd31cd-fb4a-4a52-d7fb-7f554699d63f"
      },
      "outputs": [
        {
          "output_type": "execute_result",
          "data": {
            "text/plain": [
              "False"
            ]
          },
          "metadata": {},
          "execution_count": 74
        }
      ],
      "source": [
        "# This test confirms that get_players_on_team() returns the right names for Manchester United\n",
        "\n",
        "manchester_united_players = ['Cristiano Ronaldo', 'De Gea']\n",
        "players_on_manchester_united = get_players_on_team(players, 'Manchester United')\n",
        "\n",
        "#assert\n",
        "players_on_manchester_united == manchester_united_players"
      ]
    }
  ],
  "metadata": {
    "celltoolbar": "Create Assignment",
    "kernelspec": {
      "display_name": "Python (learn-env)",
      "language": "python",
      "name": "learn-env"
    },
    "language_info": {
      "codemirror_mode": {
        "name": "ipython",
        "version": 3
      },
      "file_extension": ".py",
      "mimetype": "text/x-python",
      "name": "python",
      "nbconvert_exporter": "python",
      "pygments_lexer": "ipython3",
      "version": "3.8.5"
    },
    "colab": {
      "provenance": [],
      "include_colab_link": true
    }
  },
  "nbformat": 4,
  "nbformat_minor": 0
}
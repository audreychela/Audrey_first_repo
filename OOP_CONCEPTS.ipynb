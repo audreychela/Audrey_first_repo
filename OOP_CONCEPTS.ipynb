{
  "nbformat": 4,
  "nbformat_minor": 0,
  "metadata": {
    "colab": {
      "provenance": [],
      "authorship_tag": "ABX9TyPMBUu0ghxR4HgGVjVxHIoI",
      "include_colab_link": true
    },
    "kernelspec": {
      "name": "python3",
      "display_name": "Python 3"
    },
    "language_info": {
      "name": "python"
    }
  },
  "cells": [
    {
      "cell_type": "markdown",
      "metadata": {
        "id": "view-in-github",
        "colab_type": "text"
      },
      "source": [
        "<a href=\"https://colab.research.google.com/github/audreychela/Audrey_first_repo/blob/main/OOP_CONCEPTS.ipynb\" target=\"_parent\"><img src=\"https://colab.research.google.com/assets/colab-badge.svg\" alt=\"Open In Colab\"/></a>"
      ]
    },
    {
      "cell_type": "markdown",
      "source": [
        "**Object-Oriented Programming (OOP) in Python**"
      ],
      "metadata": {
        "id": "lJZ6nTNR-zzI"
      }
    },
    {
      "cell_type": "markdown",
      "source": [
        "**1. Introduction**\n",
        "\n",
        "Object-Oriented Programming (OOP) is a programming paradigm based on the concept of \"objects\".\n",
        "Objects bundle together data (attributes) and behavior (methods) in a single unit.\n",
        "\n",
        "Python supports OOP, which makes it easy to model real-world entities.\n",
        "\n",
        "**Key Pillars of OOP:**\n",
        "\n",
        "Encapsulation – bundling data and methods together.\n",
        "\n",
        "Inheritance – one class can inherit attributes and methods from another.\n",
        "\n",
        "Polymorphism – same method name behaves differently depending on the object.\n",
        "\n",
        "Abstraction – hiding implementation details, showing only the necessary parts.\n",
        "\n",
        "\n",
        "\n"
      ],
      "metadata": {
        "id": "tYtbpnhA_FMs"
      }
    },
    {
      "cell_type": "markdown",
      "source": [
        "**Classes and Objects in Python**\n",
        "\n",
        "What is a Class?\n",
        "\n",
        "A class is like a blueprint or a template for creating objects.\n",
        "\n",
        "Think of a house plan (class) → it defines how houses should look.\n",
        "\n",
        "Each house built (object) → is created from that plan.\n",
        "\n",
        "In Python, a class bundles together:\n",
        "\n",
        "Attributes (data/variables) → describe the object.\n",
        "\n",
        "Methods (functions inside a class) → define the behavior of the object."
      ],
      "metadata": {
        "id": "4Y2btQAX_gOG"
      }
    },
    {
      "cell_type": "markdown",
      "source": [
        "What is an Object?\n",
        "\n",
        "An object is an instance of a class.\n",
        "When you create an object, Python allocates memory for it and lets you interact with it using its attributes and methods."
      ],
      "metadata": {
        "id": "z-xXd9aQAcJT"
      }
    },
    {
      "cell_type": "markdown",
      "source": [
        "**Basic Syntax of a Class**"
      ],
      "metadata": {
        "id": "aPrKCRpAA_tN"
      }
    },
    {
      "cell_type": "code",
      "source": [
        "class ClassName:\n",
        "    # Constructor (special method to initialize attributes)\n",
        "    def __init__(self, attribute1, attribute2):\n",
        "        self.attribute1 = attribute1\n",
        "        self.attribute2 = attribute2\n",
        "\n",
        "    # Method (behavior of the class)\n",
        "    def method_name(self):\n",
        "        return f\"Doing something with {self.attribute1} and {self.attribute2}\"\n"
      ],
      "metadata": {
        "id": "-hm8Iw1ZA_P3"
      },
      "execution_count": null,
      "outputs": []
    },
    {
      "cell_type": "markdown",
      "source": [
        "**Example 1: Car Class**"
      ],
      "metadata": {
        "id": "IH-d1yppFLDF"
      }
    },
    {
      "cell_type": "code",
      "source": [
        "class Car:\n",
        "    # Constructor - initializes the object\n",
        "    def __init__(self, brand, model, year):\n",
        "        self.brand = brand      # Attribute\n",
        "        self.model = model      # Attribute\n",
        "        self.year = year        # Attribute\n",
        "\n",
        "    # Method (behavior)\n",
        "    def display_info(self):\n",
        "        return f\"{self.year} {self.brand} {self.model}\"\n",
        "\n",
        "    def start_engine(self):\n",
        "        return f\"{self.brand} {self.model}'s engine started!\"\n",
        "\n",
        "# Creating Objects (Instances)\n",
        "car1 = Car(\"Toyota\", \"Corolla\", 2020)\n",
        "car2 = Car(\"Tesla\", \"Model S\", 2023)\n",
        "\n",
        "# Using methods and attributes\n",
        "print(car1.display_info())     # \"2020 Toyota Corolla\"\n",
        "print(car2.start_engine())     # \"Tesla Model S's engine started!\"\n"
      ],
      "metadata": {
        "colab": {
          "base_uri": "https://localhost:8080/"
        },
        "id": "qHC5IjCVBaQf",
        "outputId": "488d162e-dbd8-4c34-8fef-7999f87347d7"
      },
      "execution_count": 1,
      "outputs": [
        {
          "output_type": "stream",
          "name": "stdout",
          "text": [
            "2020 Toyota Corolla\n",
            "Tesla Model S's engine started!\n"
          ]
        }
      ]
    },
    {
      "cell_type": "markdown",
      "source": [
        "**Breaking it down**\n",
        "\n",
        "class Car: → defines a blueprint called Car.\n",
        "\n",
        "__init__ → constructor, runs automatically when an object is created.\n",
        "\n",
        "self → refers to the current object (like \"this\" in other languages).\n",
        "\n",
        "car1 = Car(\"Toyota\", \"Corolla\", 2020) → creates a Car object.\n",
        "\n",
        "Methods → define what objects can do (e.g., start_engine())."
      ],
      "metadata": {
        "id": "rlUCpeWOH_rb"
      }
    },
    {
      "cell_type": "code",
      "source": [],
      "metadata": {
        "id": "0IVDBZqlAvDX"
      },
      "execution_count": null,
      "outputs": []
    },
    {
      "cell_type": "markdown",
      "source": [
        "**Key pillars**\n",
        "**Enscapulation**\n",
        "Encapsulation is the process of binding data (attributes) and methods (functions) that work on that data into a single unit (the class).\n",
        "\n",
        "Meaning it restricts direct access to some of an object’s data, so it cannot be modified accidentally.\n",
        "\n",
        "Data is accessed through methods (getters and setters) that control how it’s used.\n",
        "\n",
        "\n",
        "**Levels of Encapsulation in Python**\n",
        "\n",
        "Python doesn’t have strict access modifiers (like private in Java), but it uses naming conventions:\n",
        "\n",
        "**Public attributes/methods**: Accessible from anywhere (self.name).\n",
        "\n",
        "**Protected attributes/methods**: Indicated with one underscore _name → convention that it should not be accessed directly.\n",
        "\n",
        "Private attributes/methods: Indicated with two underscores __name → Python name-mangles it (harder to access directly)."
      ],
      "metadata": {
        "id": "NSe53YIWMKAA"
      }
    },
    {
      "cell_type": "markdown",
      "source": [
        "**Example one**"
      ],
      "metadata": {
        "id": "DSClHxNMOqrh"
      }
    },
    {
      "cell_type": "code",
      "source": [
        "class BankAccount:\n",
        "    def __init__(self, owner, balance):\n",
        "        self.owner = owner\n",
        "        self.__balance = balance   # Private attribute (hidden)\n",
        "\n",
        "    # Getter method\n",
        "    def get_balance(self):\n",
        "        return self.__balance\n",
        "\n",
        "    # Setter method with control\n",
        "    def deposit(self, amount):\n",
        "        if amount > 0:\n",
        "            self.__balance += amount\n",
        "            return f\"Deposited {amount}, New Balance: {self.__balance}\"\n",
        "        return \"Deposit amount must be positive!\"\n",
        "\n",
        "    def withdraw(self, amount):\n",
        "        if 0 < amount <= self.__balance:\n",
        "            self.__balance -= amount\n",
        "            return f\"Withdrew {amount}, New Balance: {self.__balance}\"\n",
        "        return \"Invalid transaction!\"\n",
        "\n",
        "# Usage\n",
        "acc = BankAccount(\"Alice\", 1000)\n",
        "\n",
        "print(acc.get_balance())       # ✅ Access via method\n",
        "print(acc.deposit(500))        # ✅ Controlled deposit\n",
        "print(acc.withdraw(2000))      # ❌ Will block overdraft\n",
        "# print(acc.__balance)         # ❌ Error: attribute is private\n"
      ],
      "metadata": {
        "colab": {
          "base_uri": "https://localhost:8080/"
        },
        "id": "ak-wkjmWIBzx",
        "outputId": "613cd761-2c72-4ecd-86b8-ef863bd3588e"
      },
      "execution_count": 2,
      "outputs": [
        {
          "output_type": "stream",
          "name": "stdout",
          "text": [
            "1000\n",
            "Deposited 500, New Balance: 1500\n",
            "Invalid transaction!\n"
          ]
        }
      ]
    },
    {
      "cell_type": "markdown",
      "source": [
        "**Why Encapsulation is Important?**\n",
        "\n",
        "**Security** → prevents unauthorized access to sensitive data.\n",
        "\n",
        "**Control** → allows rules for how data is modified.\n",
        "\n",
        "**Flexibility** → you can change internal code without affecting outside code.\n",
        "\n",
        "**Organization** → keeps data and methods in one logical unit (class)."
      ],
      "metadata": {
        "id": "PG71pQG3RARR"
      }
    },
    {
      "cell_type": "code",
      "source": [],
      "metadata": {
        "id": "47iDTBstP3U8"
      },
      "execution_count": null,
      "outputs": []
    },
    {
      "cell_type": "markdown",
      "source": [
        "**Inheritance**\n",
        "\n",
        "Inheritance allows one class to reuse the methods and attributes of another class."
      ],
      "metadata": {
        "id": "CdrTfkI9a-9P"
      }
    },
    {
      "cell_type": "markdown",
      "source": [
        "#Example"
      ],
      "metadata": {
        "id": "GT114fr-bCTL"
      }
    },
    {
      "cell_type": "code",
      "source": [
        "# Parent class\n",
        "class Animal:\n",
        "    def speak(self):\n",
        "        return \"This animal makes a sound.\"\n",
        "\n",
        "# Child classes\n",
        "class Dog(Animal):\n",
        "    def speak(self):\n",
        "        return \"Woof! Woof!\"\n",
        "\n",
        "class Cat(Animal):\n",
        "    def speak(self):\n",
        "        return \"Meow!\"\n",
        "\n",
        "# Usage\n",
        "dog = Dog()\n",
        "cat = Cat()\n",
        "\n",
        "print(dog.speak())\n",
        "print(cat.speak())\n"
      ],
      "metadata": {
        "colab": {
          "base_uri": "https://localhost:8080/"
        },
        "id": "HnMlOWp-bJmh",
        "outputId": "a2cf0269-aa15-40e0-d875-03ae358c24da"
      },
      "execution_count": 1,
      "outputs": [
        {
          "output_type": "stream",
          "name": "stdout",
          "text": [
            "Woof! Woof!\n",
            "Meow!\n"
          ]
        }
      ]
    },
    {
      "cell_type": "markdown",
      "source": [
        "**Polymorphism**\n",
        "\n",
        "Polymorphism allows different classes to implement the same method in different ways."
      ],
      "metadata": {
        "id": "Iz17r9rZb5vJ"
      }
    },
    {
      "cell_type": "code",
      "source": [],
      "metadata": {
        "id": "zuTIMlqjb4Yd"
      },
      "execution_count": null,
      "outputs": []
    },
    {
      "cell_type": "markdown",
      "source": [
        "**Abstraction** hides implementation details and only shows important functionality.\n",
        "In Python, we use the abc module (Abstract Base Class)."
      ],
      "metadata": {
        "id": "PQAPuHiYc7UP"
      }
    },
    {
      "cell_type": "code",
      "source": [
        "from abc import ABC, abstractmethod\n",
        "\n",
        "class Vehicle(ABC):\n",
        "    @abstractmethod\n",
        "    def start_engine(self):\n",
        "        pass\n",
        "\n",
        "class Car(Vehicle):\n",
        "    def start_engine(self):\n",
        "        return \"Car engine started!\"\n",
        "\n",
        "class Bike(Vehicle):\n",
        "    def start_engine(self):\n",
        "        return \"Bike engine started!\"\n",
        "\n",
        "# Usage\n",
        "car = Car()\n",
        "bike = Bike()\n",
        "print(car.start_engine())\n",
        "print(bike.start_engine())\n"
      ],
      "metadata": {
        "colab": {
          "base_uri": "https://localhost:8080/"
        },
        "id": "AxGm3u56dE0v",
        "outputId": "0b560d86-3a1d-427e-dc06-17781b1c1993"
      },
      "execution_count": 4,
      "outputs": [
        {
          "output_type": "stream",
          "name": "stdout",
          "text": [
            "Car engine started!\n",
            "Bike engine started!\n"
          ]
        }
      ]
    }
  ]
}
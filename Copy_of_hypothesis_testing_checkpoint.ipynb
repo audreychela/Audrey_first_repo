{
  "cells": [
    {
      "cell_type": "markdown",
      "metadata": {
        "id": "view-in-github",
        "colab_type": "text"
      },
      "source": [
        "<a href=\"https://colab.research.google.com/github/audreychela/Audrey_first_repo/blob/main/Copy_of_hypothesis_testing_checkpoint.ipynb\" target=\"_parent\"><img src=\"https://colab.research.google.com/assets/colab-badge.svg\" alt=\"Open In Colab\"/></a>"
      ]
    },
    {
      "cell_type": "markdown",
      "metadata": {
        "id": "vHpRHjoopFRm"
      },
      "source": [
        "# Hypothesis Testing Checkpoint\n",
        "\n",
        "This checkpoint is designed to test your understanding of the content from the Hypothesis Testing Cumulative Lab.\n",
        "\n",
        "Specifically, this will cover:\n",
        "\n",
        "* Identifying the null and alternative hypotheses\n",
        "* Identifying Type I and Type II errors in this context\n",
        "* Calculating a z-score test statistic\n",
        "* Determining whether we can reject the null hypothesis based on this test statistic"
      ]
    },
    {
      "cell_type": "markdown",
      "metadata": {
        "id": "1Gwf-mX_pFRp"
      },
      "source": [
        "## Your Task: Identifying Likely New Species\n",
        "\n",
        "### Business Understanding\n",
        "\n",
        "You are working for a natural resources ecology laboratory, with the goal of identifying new species of salamander. If a salamander sample seems to have different attributes than a similar, known species, then the laboratory can perform genetic testing to confirm the difference. This genetic testing is expensive, so they only want to use it when we have a statistically significant reason to believe that the sample is from a new species.\n",
        "\n",
        "Before conducting genetic testing, they want evidence that the sample is drawn from a different population than the known species — some unknown species. They are willing to conduct unnecessary genetic testing (where it turns out that the sample is actually from the known species) 20% of the time.\n",
        "\n",
        "In other words, we will be using an 80% significance level, i.e. $\\alpha = 0.2$.\n",
        "\n",
        "We have a new sample, and we want to know whether the sample is drawn from a population that is _smaller_ in length than the known species.\n",
        "\n",
        "### Data Understanding\n",
        "\n",
        "You are provided with:\n",
        "\n",
        "* The mean length of the known species is 90mm. This is also known as $\\mu$, the theoretical mean.\n",
        "* The standard deviation of the known species length is 30mm. This is also known as $\\sigma$ (sigma).\n",
        "* The mean length of the salamander sample is 87mm. This is also known as $\\bar{x}$, or sample mean.\n",
        "* The sample contains 60 salamanders.\n",
        "\n",
        "### Requirements\n",
        "\n",
        "#### 1. Identify Null and Alternative Hypotheses\n",
        "\n",
        "#### 2. Identify Type I and Type II Errors\n",
        "\n",
        "#### 3. Calculate the z-score Test Statistic\n",
        "\n",
        "#### 4. Determine Whether We Can Reject the Null Hypothesis"
      ]
    },
    {
      "cell_type": "markdown",
      "metadata": {
        "id": "YS73v-3OpFRr"
      },
      "source": [
        "## 1. Identify Null and Alternative Hypotheses\n",
        "\n",
        "Below we provide six possible hypotheses, labeled \"A\", \"B\", \"C\", \"D\", \"E\", and \"F\".\n",
        "\n",
        "In this notation, $\\bar{x}$ is the mean length of the sample (possibly an unknown species), and $\\mu$ is the known species mean length (population).\n",
        "\n",
        "By default we are assuming that the sample's mean length is the same or greater than the known species mean length. ***We are seeking evidence that the sample's mean length is actually less than that of the known species***. In other words, we are completing a **one-tailed** experiment.\n",
        "\n",
        "**A**: $\\bar{x} \\neq \\mu$\n",
        "\n",
        "**B**: $\\bar{x} = \\mu$\n",
        "\n",
        "**C**: $\\bar{x} \\leq \\mu$\n",
        "\n",
        "**D**: $\\bar{x} \\geq \\mu$\n",
        "\n",
        "**E**: $\\bar{x} \\lt \\mu$\n",
        "\n",
        "**F**: $\\bar{x} \\gt \\mu$\n",
        "\n",
        "In the cell below, assign `null_hypothesis` and `alternative_hypothesis` to the appropriate string values."
      ]
    },
    {
      "cell_type": "code",
      "execution_count": 2,
      "metadata": {
        "id": "WQzu15PnpFRs"
      },
      "outputs": [],
      "source": [
        "# CodeGrade step1\n",
        "# Replace None with appropriate code\n",
        "q1_options = [\"A\", \"B\", \"C\", \"D\", \"E\", \"F\"]\n",
        "\n",
        "null_hypothesis =  q1_options[3] #\"D\"\n",
        "alternative_hypothesis = q1_options[4] #\"E\""
      ]
    },
    {
      "cell_type": "code",
      "execution_count": null,
      "metadata": {
        "id": "XsSk_-VkvHNV"
      },
      "outputs": [],
      "source": [
        "#null_hypothesis = \"D\"          #\"x̄ is greater than or equal to μ\"\n",
        "#alternative_hypothesis = \"E\"      #\"x̄ is less than μ\""
      ]
    },
    {
      "cell_type": "code",
      "execution_count": 3,
      "metadata": {
        "colab": {
          "base_uri": "https://localhost:8080/"
        },
        "id": "lo02cG56pFRt",
        "outputId": "e8505344-432e-4715-9b5a-002a7b1f0e81"
      },
      "outputs": [
        {
          "output_type": "execute_result",
          "data": {
            "text/plain": [
              "True"
            ]
          },
          "metadata": {},
          "execution_count": 3
        }
      ],
      "source": [
        "# Both values should be strings from \"A\" to \"F\"\n",
        "q1_options = [\"A\", \"B\", \"C\", \"D\", \"E\", \"F\"]\n",
        "\n",
        "#assert\n",
        "null_hypothesis in q1_options\n",
        "\n",
        "#assert\n",
        "alternative_hypothesis in q1_options"
      ]
    },
    {
      "cell_type": "markdown",
      "metadata": {
        "id": "-8-WbGujpFRu"
      },
      "source": [
        "## 2. Identify Type I and Type II Errors\n",
        "\n",
        "Below we provide four possible scenarios, labeled \"A\", \"B\", \"C\", and \"D\". In two scenarios, an error has occurred, either Type I or Type II. In the other two scenarios, no error occurred.\n",
        "\n",
        "**A**: We conclude with our statistical test that the sample salamanders **are smaller** than the known species salamanders, and genetic testing reveals that the sample salamanders **actually are from a different species** and are therefore smaller.\n",
        "\n",
        "**B**: We conclude with our statistical test that the sample salamanders **are smaller** than the known species salamanders, but genetic testing reveals that the sample salamanders **actually are not from a different species** and are not actually smaller.\n",
        "\n",
        "**C**: We conclude with our statistical test that **we don't have enough evidence to say that the sample salamanders are statistically smaller** than the known species salamanders, but if they had run genetic testing it would have demonstrated that **they are a different species and are in fact smaller**.\n",
        "\n",
        "**D**: We conclude with our statistical test that **we don't have enough evidence to say that the sample salamanders are statistically smaller** than the known species salamanders, and in fact if they had run genetic testing it would have demonstrated that **they are not a different species**.\n",
        "\n",
        "In the cell below, assign `type_1_error` and `type_2_error` to the appropriate string values."
      ]
    },
    {
      "cell_type": "code",
      "execution_count": 4,
      "metadata": {
        "id": "KQrpVY8QpFRu"
      },
      "outputs": [],
      "source": [
        "# CodeGrade step2\n",
        "# Replace None with appropriate code\n",
        "q2_options = [\"A\", \"B\", \"C\", \"D\"]\n",
        "type_1_error = q2_options[1]  #\"B\"\n",
        "type_2_error = q2_options[2]  #\"C\""
      ]
    },
    {
      "cell_type": "code",
      "execution_count": 5,
      "metadata": {
        "colab": {
          "base_uri": "https://localhost:8080/"
        },
        "id": "QWcMf7aBpFRv",
        "outputId": "c6e232b2-a495-4657-b25f-10ed68ed86ef"
      },
      "outputs": [
        {
          "output_type": "execute_result",
          "data": {
            "text/plain": [
              "True"
            ]
          },
          "metadata": {},
          "execution_count": 5
        }
      ],
      "source": [
        "# Both values should be strings from \"A\" to \"D\"\n",
        "q2_options = [\"A\", \"B\", \"C\", \"D\"]\n",
        "\n",
        "#assert\n",
        "type_1_error in q2_options\n",
        "\n",
        "#assert\n",
        "type_2_error in q2_options"
      ]
    },
    {
      "cell_type": "markdown",
      "metadata": {
        "id": "Gkv8EICxpFRv"
      },
      "source": [
        "## 3. Calculate a z-score Test Statistic\n",
        "\n",
        "In this case, we have access to the population standard deviation, so we will use this formula for the z-score:\n",
        "\n",
        "$$ z = \\frac{\\bar{x} - \\mu}{\\sigma / \\sqrt{n}} $$\n",
        "\n",
        "Where $\\bar{x}$ is the mean length of the salamander sample, $\\mu$ is the mean length of the known species (population), $\\sigma$ is the standard deviation of the known species, and $n$ is the number in the sample.\n",
        "\n",
        "Calculate $z$ below."
      ]
    },
    {
      "cell_type": "code",
      "execution_count": 22,
      "metadata": {
        "id": "RygPnKEZpFRw"
      },
      "outputs": [],
      "source": [
        "# Run this cell without changes\n",
        "\n",
        "import scipy.stats as stats\n",
        "from math import sqrt\n",
        "import numpy as np\n",
        "from numbers import Number\n",
        "from scipy.stats import norm\n",
        "\n",
        "# Population mean\n",
        "mu = 90\n",
        "\n",
        "# Population standard deviation\n",
        "sigma = 30\n",
        "\n",
        "# Mean length of salamander sample\n",
        "x_bar = 87\n",
        "\n",
        "# Number of salamanders in the sample\n",
        "n = 60\n",
        "\n",
        "# Alpha (1 - confidence level)\n",
        "alpha = 0.2"
      ]
    },
    {
      "cell_type": "code",
      "execution_count": 9,
      "metadata": {
        "colab": {
          "base_uri": "https://localhost:8080/"
        },
        "id": "rRdbUFdUpFRw",
        "outputId": "09c0a8ea-bb8d-4534-e109-ac83ed16def6"
      },
      "outputs": [
        {
          "output_type": "execute_result",
          "data": {
            "text/plain": [
              "-0.7745966692414834"
            ]
          },
          "metadata": {},
          "execution_count": 9
        }
      ],
      "source": [
        "# CodeGrade step3\n",
        "# Replace None with appropriate code\n",
        "z = (x_bar - mu) / (sigma/sqrt(n))\n",
        "z"
      ]
    },
    {
      "cell_type": "code",
      "execution_count": 10,
      "metadata": {
        "colab": {
          "base_uri": "https://localhost:8080/"
        },
        "id": "pynihwZ0pFRx",
        "outputId": "8067565d-8f21-4f37-85df-0706edd89e4f"
      },
      "outputs": [
        {
          "output_type": "execute_result",
          "data": {
            "text/plain": [
              "True"
            ]
          },
          "metadata": {},
          "execution_count": 10
        }
      ],
      "source": [
        "# z should be a negative floating point value\n",
        "# (negative since the sample mean is smaller than the known species mean)\n",
        "#assert\n",
        "isinstance(z, Number)\n",
        "#assert\n",
        "z < 0"
      ]
    },
    {
      "cell_type": "markdown",
      "metadata": {
        "id": "gCTN9sqdpFRx"
      },
      "source": [
        "## 4. Determine Whether We Can Reject the Null Hypothesis\n",
        "\n",
        "Remember that our confidence level is 0.8 ($\\alpha = 0.2$). Can we reject the null hypothesis at this confidence level?\n",
        "\n",
        "Hint: Use the answer from the previous question along with the empirical rule, a Python function, or [this z-table](https://www.math.arizona.edu/~rsims/ma464/standardnormaltable.pdf).\n",
        "\n",
        "In the cell below, perform any calculations you need, then assign `reject_null_hypothesis` to `True` or `False`."
      ]
    },
    {
      "cell_type": "code",
      "execution_count": 29,
      "metadata": {
        "id": "lyfIk-4epFRx",
        "colab": {
          "base_uri": "https://localhost:8080/"
        },
        "outputId": "eefe1ec8-a257-4a42-8f80-f6f1ed9e4b95"
      },
      "outputs": [
        {
          "output_type": "execute_result",
          "data": {
            "text/plain": [
              "False"
            ]
          },
          "metadata": {},
          "execution_count": 29
        }
      ],
      "source": [
        "# CodeGrade step4\n",
        "# Perform calculations\n",
        "z_critical = (1 - alpha/2)#norm.ppf(1 - alpha/2)\n",
        "# Assign this to True or False\n",
        "reject_null_hypothesis = abs(z) > z_critical\n",
        "\n",
        "reject_null_hypothesis"
      ]
    },
    {
      "cell_type": "code",
      "execution_count": 28,
      "metadata": {
        "id": "NXz_RlY4pFRy",
        "colab": {
          "base_uri": "https://localhost:8080/"
        },
        "outputId": "4d8b0647-b0df-4d8f-8ab2-69661b4b988e"
      },
      "outputs": [
        {
          "output_type": "execute_result",
          "data": {
            "text/plain": [
              "True"
            ]
          },
          "metadata": {},
          "execution_count": 28
        }
      ],
      "source": [
        "# This value should be True or False\n",
        "#assert\n",
        "reject_null_hypothesis == True or reject_null_hypothesis == False"
      ]
    }
  ],
  "metadata": {
    "celltoolbar": "Create Assignment",
    "colab": {
      "provenance": [],
      "include_colab_link": true
    },
    "kernelspec": {
      "display_name": "Python (learn-env)",
      "language": "python",
      "name": "learn-env"
    },
    "language_info": {
      "codemirror_mode": {
        "name": "ipython",
        "version": 3
      },
      "file_extension": ".py",
      "mimetype": "text/x-python",
      "name": "python",
      "nbconvert_exporter": "python",
      "pygments_lexer": "ipython3",
      "version": "3.8.5"
    }
  },
  "nbformat": 4,
  "nbformat_minor": 0
}